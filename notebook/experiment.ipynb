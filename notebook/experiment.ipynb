{
 "cells": [
  {
   "cell_type": "code",
   "execution_count": 52,
   "id": "0d1205e6-62d7-4d9a-be4a-d03fac625407",
   "metadata": {
    "tags": []
   },
   "outputs": [
    {
     "name": "stderr",
     "output_type": "stream",
     "text": [
      "[nltk_data] Downloading package stopwords to\n",
      "[nltk_data]     /home/jupyter/nltk_data...\n",
      "[nltk_data]   Package stopwords is already up-to-date!\n",
      "[nltk_data] Downloading package punkt to /home/jupyter/nltk_data...\n",
      "[nltk_data]   Package punkt is already up-to-date!\n"
     ]
    },
    {
     "data": {
      "text/plain": [
       "True"
      ]
     },
     "execution_count": 52,
     "metadata": {},
     "output_type": "execute_result"
    }
   ],
   "source": [
    "import pandas as pd\n",
    "import numpy as np\n",
    "from textblob import TextBlob\n",
    "from sklearn.feature_extraction.text import TfidfVectorizer\n",
    "from sklearn.preprocessing import LabelEncoder\n",
    "import re\n",
    "import nltk\n",
    "from nltk.corpus import stopwords\n",
    "from nltk.tokenize import word_tokenize\n",
    "nltk.download('stopwords')\n",
    "nltk.download('punkt')"
   ]
  },
  {
   "cell_type": "code",
   "execution_count": 53,
   "id": "14d0e356-efde-464a-ae78-f41dc7aaa27f",
   "metadata": {
    "tags": []
   },
   "outputs": [
    {
     "data": {
      "text/html": [
       "<div>\n",
       "<style scoped>\n",
       "    .dataframe tbody tr th:only-of-type {\n",
       "        vertical-align: middle;\n",
       "    }\n",
       "\n",
       "    .dataframe tbody tr th {\n",
       "        vertical-align: top;\n",
       "    }\n",
       "\n",
       "    .dataframe thead th {\n",
       "        text-align: right;\n",
       "    }\n",
       "</style>\n",
       "<table border=\"1\" class=\"dataframe\">\n",
       "  <thead>\n",
       "    <tr style=\"text-align: right;\">\n",
       "      <th></th>\n",
       "      <th>rating</th>\n",
       "      <th>review_hash</th>\n",
       "      <th>review_text</th>\n",
       "      <th>title</th>\n",
       "      <th>helpful_votes</th>\n",
       "    </tr>\n",
       "  </thead>\n",
       "  <tbody>\n",
       "    <tr>\n",
       "      <th>0</th>\n",
       "      <td>1</td>\n",
       "      <td>[0a9f2d2131f27c2b0d700f80a5595329]</td>\n",
       "      <td>Battery life very poor and mic quality also ve...</td>\n",
       "      <td>Bad product</td>\n",
       "      <td>0</td>\n",
       "    </tr>\n",
       "    <tr>\n",
       "      <th>1</th>\n",
       "      <td>1</td>\n",
       "      <td>[1247140d70ccef9f31a2e898867bccb4]</td>\n",
       "      <td>Don't buy this Crossbeats, I brought Crossbeat...</td>\n",
       "      <td>Worst and fake Product</td>\n",
       "      <td>0</td>\n",
       "    </tr>\n",
       "    <tr>\n",
       "      <th>2</th>\n",
       "      <td>1</td>\n",
       "      <td>[f1c6d0f1c02a0943e318d7732fa1f387]</td>\n",
       "      <td>Amazon replacement service very very worst</td>\n",
       "      <td>Left Ear bud not working</td>\n",
       "      <td>0</td>\n",
       "    </tr>\n",
       "    <tr>\n",
       "      <th>3</th>\n",
       "      <td>1</td>\n",
       "      <td>[443719dacd2e9a9b8b9289aafbafb973]</td>\n",
       "      <td>I regret buying these earbuds. Even boat and r...</td>\n",
       "      <td>Very cheap earbuds from JBL</td>\n",
       "      <td>0</td>\n",
       "    </tr>\n",
       "    <tr>\n",
       "      <th>4</th>\n",
       "      <td>1</td>\n",
       "      <td>[8d820dfc0d87da7bfca3523dc9deff36]</td>\n",
       "      <td>Pathetic quality, expensive for free as well. ...</td>\n",
       "      <td>Sound quality</td>\n",
       "      <td>0</td>\n",
       "    </tr>\n",
       "  </tbody>\n",
       "</table>\n",
       "</div>"
      ],
      "text/plain": [
       "   rating                         review_hash  \\\n",
       "0       1  [0a9f2d2131f27c2b0d700f80a5595329]   \n",
       "1       1  [1247140d70ccef9f31a2e898867bccb4]   \n",
       "2       1  [f1c6d0f1c02a0943e318d7732fa1f387]   \n",
       "3       1  [443719dacd2e9a9b8b9289aafbafb973]   \n",
       "4       1  [8d820dfc0d87da7bfca3523dc9deff36]   \n",
       "\n",
       "                                         review_text  \\\n",
       "0  Battery life very poor and mic quality also ve...   \n",
       "1  Don't buy this Crossbeats, I brought Crossbeat...   \n",
       "2         Amazon replacement service very very worst   \n",
       "3  I regret buying these earbuds. Even boat and r...   \n",
       "4  Pathetic quality, expensive for free as well. ...   \n",
       "\n",
       "                         title helpful_votes  \n",
       "0                  Bad product             0  \n",
       "1       Worst and fake Product             0  \n",
       "2     Left Ear bud not working             0  \n",
       "3  Very cheap earbuds from JBL             0  \n",
       "4                Sound quality             0  "
      ]
     },
     "execution_count": 53,
     "metadata": {},
     "output_type": "execute_result"
    }
   ],
   "source": [
    "from google.cloud import bigquery\n",
    "\n",
    "# Initialize the BigQuery client\n",
    "client = bigquery.Client()\n",
    "\n",
    "# Replace with your project ID and BigQuery table details\n",
    "project_id = \"airy-box-431604-j9\"\n",
    "dataset_id = \"amazon_reviews\"\n",
    "table_id = \"clean_data\"\n",
    "\n",
    "# Construct the full table ID\n",
    "table_ref = f\"{project_id}.{dataset_id}.{table_id}\"\n",
    "\n",
    "# Query the table\n",
    "query = f\"SELECT * FROM `{table_ref}`\"\n",
    "\n",
    "# Execute the query and convert it to a pandas DataFrame\n",
    "query_job = client.query(query)\n",
    "df = query_job.to_dataframe()\n",
    "\n",
    "# Display the DataFrame\n",
    "df.head()"
   ]
  },
  {
   "cell_type": "code",
   "execution_count": 54,
   "id": "4c7e5be6-f465-4ec4-8474-a02b789513bd",
   "metadata": {
    "tags": []
   },
   "outputs": [],
   "source": [
    "df['helpful_votes'] = df['helpful_votes'].astype(int)"
   ]
  },
  {
   "cell_type": "code",
   "execution_count": 55,
   "id": "202106b8-fd6b-4593-b3ba-cb0162d9d436",
   "metadata": {
    "tags": []
   },
   "outputs": [
    {
     "data": {
      "text/plain": [
       "Index(['rating', 'review_hash', 'review_text', 'title', 'helpful_votes'], dtype='object')"
      ]
     },
     "execution_count": 55,
     "metadata": {},
     "output_type": "execute_result"
    }
   ],
   "source": [
    "df.columns"
   ]
  },
  {
   "cell_type": "code",
   "execution_count": 56,
   "id": "37abde48-0259-422f-a999-ddb2d2d267b2",
   "metadata": {
    "tags": []
   },
   "outputs": [],
   "source": [
    "df.drop(columns='review_hash', inplace=True)"
   ]
  },
  {
   "cell_type": "code",
   "execution_count": 57,
   "id": "ef4e929e-be7d-4588-bb2b-6c9369e93af6",
   "metadata": {
    "tags": []
   },
   "outputs": [],
   "source": [
    "# Feature 1: Review Length\n",
    "df['review_length'] = df['review_text'].apply(len)\n",
    "df['review_word_count'] = df['review_text'].apply(lambda x: len(word_tokenize(x)))"
   ]
  },
  {
   "cell_type": "code",
   "execution_count": 58,
   "id": "4af676cf-6341-4fdd-ae1e-b6258d616100",
   "metadata": {
    "tags": []
   },
   "outputs": [],
   "source": [
    "# Feature 2: Sentiment Score\n",
    "df['review_sentiment'] = df['review_text'].apply(lambda x: TextBlob(x).sentiment.polarity)\n",
    "df['review_subjectivity'] = df['review_text'].apply(lambda x: TextBlob(x).sentiment.subjectivity)"
   ]
  },
  {
   "cell_type": "code",
   "execution_count": 59,
   "id": "480ed8c4-98ff-4af9-9da4-780f1fde36b6",
   "metadata": {
    "tags": []
   },
   "outputs": [],
   "source": [
    "# Feature 3: Readability Score (Flesch-Kincaid Score)\n",
    "def flesch_kincaid(text):\n",
    "    words = word_tokenize(text)\n",
    "    sentences = len(re.split(r'[.!?]', text))\n",
    "    syllables = sum([len([s for s in word if s in 'aeiou']) for word in words])\n",
    "    if len(words) == 0 or sentences == 0:\n",
    "        return np.nan\n",
    "    return 206.835 - (1.015 * (len(words) / sentences)) - (84.6 * (syllables / len(words)))\n",
    "\n",
    "df['flesch_kincaid'] = df['review_text'].apply(flesch_kincaid)"
   ]
  },
  {
   "cell_type": "code",
   "execution_count": 60,
   "id": "e3d8bf60-00cb-4ffb-a645-bfeaf8b7572d",
   "metadata": {
    "tags": []
   },
   "outputs": [],
   "source": [
    "# Feature 4: TF-IDF Vectors\n",
    "vectorizer = TfidfVectorizer(max_features=100)  # Use max_features to limit dimensions\n",
    "tfidf_matrix = vectorizer.fit_transform(df['review_text'])\n",
    "tfidf_df = pd.DataFrame(tfidf_matrix.toarray(), columns=vectorizer.get_feature_names_out())\n",
    "df = pd.concat([df, tfidf_df], axis=1)"
   ]
  },
  {
   "cell_type": "code",
   "execution_count": 61,
   "id": "bd34289d-26fa-41b1-a963-6af51f39be14",
   "metadata": {
    "tags": []
   },
   "outputs": [],
   "source": [
    "# Feature 5: Presence of Specific Keywords\n",
    "keywords = ['good', 'bad', 'recommend', 'disappoint', 'excellent']\n",
    "for keyword in keywords:\n",
    "    df[f'keyword_{keyword}'] = df['review_text'].apply(lambda x: int(keyword in x.lower()))"
   ]
  },
  {
   "cell_type": "code",
   "execution_count": 62,
   "id": "6d7eecd0-9373-40f9-8f47-8268bb2e4e99",
   "metadata": {
    "tags": []
   },
   "outputs": [],
   "source": [
    "# Feature 6: Rating Deviation (assuming you have an average rating for the product)\n",
    "# Suppose `avg_rating` is the average rating for the product\n",
    "avg_rating = df['rating'].mean()\n",
    "df['rating_deviation'] = df['rating'] - avg_rating"
   ]
  },
  {
   "cell_type": "code",
   "execution_count": 63,
   "id": "910f38c9-6d55-419d-be14-a8db5e88611c",
   "metadata": {
    "tags": []
   },
   "outputs": [],
   "source": [
    "# Feature 7: Title Sentiment\n",
    "df['title_sentiment'] = df['title'].apply(lambda x: TextBlob(x).sentiment.polarity)\n",
    "df['title_length'] = df['title'].apply(len)"
   ]
  },
  {
   "cell_type": "code",
   "execution_count": 64,
   "id": "313a68c6-6ed6-40f1-b897-1f27d5443959",
   "metadata": {
    "tags": []
   },
   "outputs": [
    {
     "name": "stderr",
     "output_type": "stream",
     "text": [
      "[nltk_data] Downloading package averaged_perceptron_tagger to\n",
      "[nltk_data]     /home/jupyter/nltk_data...\n",
      "[nltk_data]   Package averaged_perceptron_tagger is already up-to-\n",
      "[nltk_data]       date!\n"
     ]
    },
    {
     "data": {
      "text/plain": [
       "True"
      ]
     },
     "execution_count": 64,
     "metadata": {},
     "output_type": "execute_result"
    }
   ],
   "source": [
    "nltk.download('averaged_perceptron_tagger')"
   ]
  },
  {
   "cell_type": "code",
   "execution_count": 65,
   "id": "73f54c37-7559-4f00-8b6e-dbfc35233145",
   "metadata": {
    "tags": []
   },
   "outputs": [],
   "source": [
    "# Feature 8: Parts of Speech (POS) Tags\n",
    "def pos_counts(text):\n",
    "    words = word_tokenize(text)\n",
    "    pos_tags = nltk.pos_tag(words)\n",
    "    pos_counts = {\"nouns\": 0, \"verbs\": 0, \"adjectives\": 0}\n",
    "    for _, tag in pos_tags:\n",
    "        if tag.startswith('N'):\n",
    "            pos_counts[\"nouns\"] += 1\n",
    "        elif tag.startswith('V'):\n",
    "            pos_counts[\"verbs\"] += 1\n",
    "        elif tag.startswith('J'):\n",
    "            pos_counts[\"adjectives\"] += 1\n",
    "    return pd.Series(pos_counts)\n",
    "\n",
    "df[['nouns_count', 'verbs_count', 'adjectives_count']] = df['review_text'].apply(pos_counts)"
   ]
  },
  {
   "cell_type": "code",
   "execution_count": 66,
   "id": "fe532e1f-acd8-49c2-96d2-e04986a838ca",
   "metadata": {
    "tags": []
   },
   "outputs": [],
   "source": [
    "# Feature 9: Negations Count\n",
    "negations = [\"not\", \"no\", \"never\", \"none\"]\n",
    "df['negation_count'] = df['review_text'].apply(lambda x: sum([x.lower().count(neg) for neg in negations]))"
   ]
  },
  {
   "cell_type": "code",
   "execution_count": 67,
   "id": "e706bfe1-6aa7-47d8-a085-3be138b78bbd",
   "metadata": {
    "tags": []
   },
   "outputs": [],
   "source": [
    "# Feature 10: Pronouns Count\n",
    "pronouns = [\"i\", \"we\", \"you\", \"he\", \"she\", \"they\"]\n",
    "df['pronoun_count'] = df['review_text'].apply(lambda x: sum([x.lower().count(pronoun) for pronoun in pronouns]))"
   ]
  },
  {
   "cell_type": "code",
   "execution_count": 68,
   "id": "b8da3968-7c21-4f46-b2b3-0f8a3b347d11",
   "metadata": {
    "tags": []
   },
   "outputs": [],
   "source": [
    "# Feature 11: Helpful Votes to Review Length Ratio\n",
    "df['helpful_to_length_ratio'] = df['helpful_votes'] / (df['review_length'] + 1)  # Adding 1 to avoid division by zero"
   ]
  },
  {
   "cell_type": "code",
   "execution_count": 69,
   "id": "b872e7d0-bc33-4806-a719-244d9d357f34",
   "metadata": {
    "tags": []
   },
   "outputs": [
    {
     "data": {
      "text/html": [
       "<div>\n",
       "<style scoped>\n",
       "    .dataframe tbody tr th:only-of-type {\n",
       "        vertical-align: middle;\n",
       "    }\n",
       "\n",
       "    .dataframe tbody tr th {\n",
       "        vertical-align: top;\n",
       "    }\n",
       "\n",
       "    .dataframe thead th {\n",
       "        text-align: right;\n",
       "    }\n",
       "</style>\n",
       "<table border=\"1\" class=\"dataframe\">\n",
       "  <thead>\n",
       "    <tr style=\"text-align: right;\">\n",
       "      <th></th>\n",
       "      <th>rating</th>\n",
       "      <th>review_text</th>\n",
       "      <th>title</th>\n",
       "      <th>helpful_votes</th>\n",
       "      <th>review_length</th>\n",
       "      <th>review_word_count</th>\n",
       "      <th>review_sentiment</th>\n",
       "      <th>review_subjectivity</th>\n",
       "      <th>flesch_kincaid</th>\n",
       "      <th>after</th>\n",
       "      <th>...</th>\n",
       "      <th>keyword_excellent</th>\n",
       "      <th>rating_deviation</th>\n",
       "      <th>title_sentiment</th>\n",
       "      <th>title_length</th>\n",
       "      <th>nouns_count</th>\n",
       "      <th>verbs_count</th>\n",
       "      <th>adjectives_count</th>\n",
       "      <th>negation_count</th>\n",
       "      <th>pronoun_count</th>\n",
       "      <th>helpful_to_length_ratio</th>\n",
       "    </tr>\n",
       "  </thead>\n",
       "  <tbody>\n",
       "    <tr>\n",
       "      <th>0</th>\n",
       "      <td>1</td>\n",
       "      <td>Battery life very poor and mic quality also ve...</td>\n",
       "      <td>Bad product</td>\n",
       "      <td>0</td>\n",
       "      <td>69</td>\n",
       "      <td>14</td>\n",
       "      <td>-0.520000</td>\n",
       "      <td>0.780000</td>\n",
       "      <td>65.725000</td>\n",
       "      <td>0.000000</td>\n",
       "      <td>...</td>\n",
       "      <td>0</td>\n",
       "      <td>-3.092013</td>\n",
       "      <td>-0.70</td>\n",
       "      <td>11</td>\n",
       "      <td>6</td>\n",
       "      <td>0</td>\n",
       "      <td>3</td>\n",
       "      <td>0</td>\n",
       "      <td>3</td>\n",
       "      <td>0.0</td>\n",
       "    </tr>\n",
       "    <tr>\n",
       "      <th>1</th>\n",
       "      <td>1</td>\n",
       "      <td>Don't buy this Crossbeats, I brought Crossbeat...</td>\n",
       "      <td>Worst and fake Product</td>\n",
       "      <td>0</td>\n",
       "      <td>241</td>\n",
       "      <td>45</td>\n",
       "      <td>-0.058333</td>\n",
       "      <td>0.525000</td>\n",
       "      <td>67.530000</td>\n",
       "      <td>0.246039</td>\n",
       "      <td>...</td>\n",
       "      <td>0</td>\n",
       "      <td>-3.092013</td>\n",
       "      <td>-0.75</td>\n",
       "      <td>22</td>\n",
       "      <td>11</td>\n",
       "      <td>9</td>\n",
       "      <td>2</td>\n",
       "      <td>2</td>\n",
       "      <td>17</td>\n",
       "      <td>0.0</td>\n",
       "    </tr>\n",
       "    <tr>\n",
       "      <th>2</th>\n",
       "      <td>1</td>\n",
       "      <td>Amazon replacement service very very worst</td>\n",
       "      <td>Left Ear bud not working</td>\n",
       "      <td>0</td>\n",
       "      <td>42</td>\n",
       "      <td>6</td>\n",
       "      <td>-1.000000</td>\n",
       "      <td>1.000000</td>\n",
       "      <td>31.545000</td>\n",
       "      <td>0.000000</td>\n",
       "      <td>...</td>\n",
       "      <td>0</td>\n",
       "      <td>-3.092013</td>\n",
       "      <td>0.00</td>\n",
       "      <td>24</td>\n",
       "      <td>3</td>\n",
       "      <td>0</td>\n",
       "      <td>1</td>\n",
       "      <td>0</td>\n",
       "      <td>1</td>\n",
       "      <td>0.0</td>\n",
       "    </tr>\n",
       "    <tr>\n",
       "      <th>3</th>\n",
       "      <td>1</td>\n",
       "      <td>I regret buying these earbuds. Even boat and r...</td>\n",
       "      <td>Very cheap earbuds from JBL</td>\n",
       "      <td>0</td>\n",
       "      <td>204</td>\n",
       "      <td>42</td>\n",
       "      <td>0.016667</td>\n",
       "      <td>0.398333</td>\n",
       "      <td>69.277500</td>\n",
       "      <td>0.000000</td>\n",
       "      <td>...</td>\n",
       "      <td>0</td>\n",
       "      <td>-3.092013</td>\n",
       "      <td>0.52</td>\n",
       "      <td>27</td>\n",
       "      <td>13</td>\n",
       "      <td>8</td>\n",
       "      <td>6</td>\n",
       "      <td>0</td>\n",
       "      <td>13</td>\n",
       "      <td>0.0</td>\n",
       "    </tr>\n",
       "    <tr>\n",
       "      <th>4</th>\n",
       "      <td>1</td>\n",
       "      <td>Pathetic quality, expensive for free as well. ...</td>\n",
       "      <td>Sound quality</td>\n",
       "      <td>0</td>\n",
       "      <td>69</td>\n",
       "      <td>13</td>\n",
       "      <td>-0.366667</td>\n",
       "      <td>0.833333</td>\n",
       "      <td>60.367019</td>\n",
       "      <td>0.000000</td>\n",
       "      <td>...</td>\n",
       "      <td>0</td>\n",
       "      <td>-3.092013</td>\n",
       "      <td>0.40</td>\n",
       "      <td>13</td>\n",
       "      <td>1</td>\n",
       "      <td>3</td>\n",
       "      <td>2</td>\n",
       "      <td>0</td>\n",
       "      <td>7</td>\n",
       "      <td>0.0</td>\n",
       "    </tr>\n",
       "  </tbody>\n",
       "</table>\n",
       "<p>5 rows × 123 columns</p>\n",
       "</div>"
      ],
      "text/plain": [
       "   rating                                        review_text  \\\n",
       "0       1  Battery life very poor and mic quality also ve...   \n",
       "1       1  Don't buy this Crossbeats, I brought Crossbeat...   \n",
       "2       1         Amazon replacement service very very worst   \n",
       "3       1  I regret buying these earbuds. Even boat and r...   \n",
       "4       1  Pathetic quality, expensive for free as well. ...   \n",
       "\n",
       "                         title  helpful_votes  review_length  \\\n",
       "0                  Bad product              0             69   \n",
       "1       Worst and fake Product              0            241   \n",
       "2     Left Ear bud not working              0             42   \n",
       "3  Very cheap earbuds from JBL              0            204   \n",
       "4                Sound quality              0             69   \n",
       "\n",
       "   review_word_count  review_sentiment  review_subjectivity  flesch_kincaid  \\\n",
       "0                 14         -0.520000             0.780000       65.725000   \n",
       "1                 45         -0.058333             0.525000       67.530000   \n",
       "2                  6         -1.000000             1.000000       31.545000   \n",
       "3                 42          0.016667             0.398333       69.277500   \n",
       "4                 13         -0.366667             0.833333       60.367019   \n",
       "\n",
       "      after  ...  keyword_excellent  rating_deviation  title_sentiment  \\\n",
       "0  0.000000  ...                  0         -3.092013            -0.70   \n",
       "1  0.246039  ...                  0         -3.092013            -0.75   \n",
       "2  0.000000  ...                  0         -3.092013             0.00   \n",
       "3  0.000000  ...                  0         -3.092013             0.52   \n",
       "4  0.000000  ...                  0         -3.092013             0.40   \n",
       "\n",
       "   title_length  nouns_count  verbs_count  adjectives_count  negation_count  \\\n",
       "0            11            6            0                 3               0   \n",
       "1            22           11            9                 2               2   \n",
       "2            24            3            0                 1               0   \n",
       "3            27           13            8                 6               0   \n",
       "4            13            1            3                 2               0   \n",
       "\n",
       "   pronoun_count  helpful_to_length_ratio  \n",
       "0              3                      0.0  \n",
       "1             17                      0.0  \n",
       "2              1                      0.0  \n",
       "3             13                      0.0  \n",
       "4              7                      0.0  \n",
       "\n",
       "[5 rows x 123 columns]"
      ]
     },
     "execution_count": 69,
     "metadata": {},
     "output_type": "execute_result"
    }
   ],
   "source": [
    "# Review the extracted features\n",
    "df.head()"
   ]
  },
  {
   "cell_type": "code",
   "execution_count": 70,
   "id": "13f74b81-c9e1-4f0c-9c65-71240bf1d53f",
   "metadata": {
    "tags": []
   },
   "outputs": [],
   "source": [
    "df.drop(columns=['review_text', 'title'], inplace=True)"
   ]
  },
  {
   "cell_type": "code",
   "execution_count": 71,
   "id": "ccab7be9-731e-4415-a829-82b772a9b395",
   "metadata": {
    "tags": []
   },
   "outputs": [],
   "source": [
    "import numpy as np\n",
    "from sklearn.model_selection import train_test_split\n",
    "from sklearn.ensemble import RandomForestClassifier\n",
    "from sklearn.metrics import classification_report, accuracy_score\n",
    "from sklearn.preprocessing import LabelEncoder, StandardScaler\n",
    "from sklearn.feature_extraction.text import TfidfVectorizer\n",
    "from sklearn.compose import ColumnTransformer\n",
    "from sklearn.pipeline import Pipeline\n",
    "from sklearn.impute import SimpleImputer\n",
    "from xgboost import XGBClassifier "
   ]
  },
  {
   "cell_type": "code",
   "execution_count": 75,
   "id": "7b2de34e-5e5b-4583-aa0a-c14c1c42e686",
   "metadata": {
    "tags": []
   },
   "outputs": [
    {
     "name": "stderr",
     "output_type": "stream",
     "text": [
      "/var/tmp/ipykernel_25749/2203340987.py:18: FutureWarning: A value is trying to be set on a copy of a DataFrame or Series through chained assignment using an inplace method.\n",
      "The behavior will change in pandas 3.0. This inplace method will never work because the intermediate object on which we are setting values always behaves as a copy.\n",
      "\n",
      "For example, when doing 'df[col].method(value, inplace=True)', try using 'df.method({col: value}, inplace=True)' or df[col] = df[col].method(value) instead, to perform the operation inplace on the original object.\n",
      "\n",
      "\n",
      "  df['helpfulness_class'].fillna(\"low\", inplace=True)\n"
     ]
    }
   ],
   "source": [
    "import numpy as np\n",
    "import pandas as pd\n",
    "from sklearn.preprocessing import LabelEncoder\n",
    "\n",
    "# Apply a log transformation to 'helpful_votes' to reduce skewness\n",
    "# Add 1 to avoid log(0) issues\n",
    "df['log_helpful_votes'] = np.log1p(df['helpful_votes'])\n",
    "\n",
    "# Define bins based on the log-transformed values\n",
    "# Here we divide them into low, medium, and high helpfulness\n",
    "bins = [-np.inf, 1, 2, np.inf]\n",
    "labels = [\"low\", \"medium\", \"high\"]\n",
    "\n",
    "# Create a new column with log-based binned categories\n",
    "df['helpfulness_class'] = pd.cut(df['log_helpful_votes'], bins=bins, labels=labels)\n",
    "\n",
    "# Fill any NaNs that might have been introduced in case of missing values\n",
    "df['helpfulness_class'].fillna(\"low\", inplace=True)\n",
    "\n",
    "# Encode the categorical labels to numeric values\n",
    "label_encoder = LabelEncoder()\n",
    "df['helpfulness_class_encoded'] = label_encoder.fit_transform(df['helpfulness_class'])\n"
   ]
  },
  {
   "cell_type": "code",
   "execution_count": 76,
   "id": "8ef12654-1615-4a15-babe-0d47398520a7",
   "metadata": {
    "tags": []
   },
   "outputs": [],
   "source": [
    "# Define features and label\n",
    "X = df.drop(columns=['helpful_votes', 'helpfulness_class', 'helpfulness_class_encoded'])\n",
    "y = df['helpfulness_class_encoded']\n",
    "\n",
    "# Identify column types\n",
    "numerical_cols = X.select_dtypes(include=['float64', 'int64']).columns.tolist()\n",
    "text_cols = ['review_text', 'title']  # Text columns to vectorize\n",
    "\n",
    "# Preprocessing for numerical data: Simple scaling\n",
    "numerical_transformer = Pipeline(steps=[\n",
    "    ('imputer', SimpleImputer(strategy='median')),\n",
    "    ('scaler', StandardScaler())\n",
    "])\n",
    "\n",
    "# Preprocessing for text data: TF-IDF Vectorization\n",
    "text_transformer = Pipeline(steps=[\n",
    "    ('tfidf', TfidfVectorizer(max_features=100))  # Adjust max_features based on memory/performance\n",
    "])\n",
    "\n",
    "# Combine preprocessor with column transformer\n",
    "preprocessor = ColumnTransformer(\n",
    "    transformers=[\n",
    "        ('num', numerical_transformer, numerical_cols),\n",
    "    ],\n",
    ")"
   ]
  },
  {
   "cell_type": "code",
   "execution_count": 77,
   "id": "a0c148c4-9ca6-4c2f-96f2-58cd685fb167",
   "metadata": {
    "tags": []
   },
   "outputs": [],
   "source": [
    "X_preprocessed = preprocessor.fit_transform(X)\n"
   ]
  },
  {
   "cell_type": "code",
   "execution_count": 78,
   "id": "c87c5398-d931-47ea-8620-c77284c92842",
   "metadata": {
    "tags": []
   },
   "outputs": [],
   "source": [
    "# Split the dataset into training and testing sets\n",
    "X_train, X_test, y_train, y_test = train_test_split(X, y, test_size=0.2, random_state=42)"
   ]
  },
  {
   "cell_type": "code",
   "execution_count": 79,
   "id": "1f450aef-99dd-4415-a03d-2d9b2add366e",
   "metadata": {
    "tags": []
   },
   "outputs": [
    {
     "data": {
      "text/html": [
       "<style>#sk-container-id-2 {\n",
       "  /* Definition of color scheme common for light and dark mode */\n",
       "  --sklearn-color-text: black;\n",
       "  --sklearn-color-line: gray;\n",
       "  /* Definition of color scheme for unfitted estimators */\n",
       "  --sklearn-color-unfitted-level-0: #fff5e6;\n",
       "  --sklearn-color-unfitted-level-1: #f6e4d2;\n",
       "  --sklearn-color-unfitted-level-2: #ffe0b3;\n",
       "  --sklearn-color-unfitted-level-3: chocolate;\n",
       "  /* Definition of color scheme for fitted estimators */\n",
       "  --sklearn-color-fitted-level-0: #f0f8ff;\n",
       "  --sklearn-color-fitted-level-1: #d4ebff;\n",
       "  --sklearn-color-fitted-level-2: #b3dbfd;\n",
       "  --sklearn-color-fitted-level-3: cornflowerblue;\n",
       "\n",
       "  /* Specific color for light theme */\n",
       "  --sklearn-color-text-on-default-background: var(--sg-text-color, var(--theme-code-foreground, var(--jp-content-font-color1, black)));\n",
       "  --sklearn-color-background: var(--sg-background-color, var(--theme-background, var(--jp-layout-color0, white)));\n",
       "  --sklearn-color-border-box: var(--sg-text-color, var(--theme-code-foreground, var(--jp-content-font-color1, black)));\n",
       "  --sklearn-color-icon: #696969;\n",
       "\n",
       "  @media (prefers-color-scheme: dark) {\n",
       "    /* Redefinition of color scheme for dark theme */\n",
       "    --sklearn-color-text-on-default-background: var(--sg-text-color, var(--theme-code-foreground, var(--jp-content-font-color1, white)));\n",
       "    --sklearn-color-background: var(--sg-background-color, var(--theme-background, var(--jp-layout-color0, #111)));\n",
       "    --sklearn-color-border-box: var(--sg-text-color, var(--theme-code-foreground, var(--jp-content-font-color1, white)));\n",
       "    --sklearn-color-icon: #878787;\n",
       "  }\n",
       "}\n",
       "\n",
       "#sk-container-id-2 {\n",
       "  color: var(--sklearn-color-text);\n",
       "}\n",
       "\n",
       "#sk-container-id-2 pre {\n",
       "  padding: 0;\n",
       "}\n",
       "\n",
       "#sk-container-id-2 input.sk-hidden--visually {\n",
       "  border: 0;\n",
       "  clip: rect(1px 1px 1px 1px);\n",
       "  clip: rect(1px, 1px, 1px, 1px);\n",
       "  height: 1px;\n",
       "  margin: -1px;\n",
       "  overflow: hidden;\n",
       "  padding: 0;\n",
       "  position: absolute;\n",
       "  width: 1px;\n",
       "}\n",
       "\n",
       "#sk-container-id-2 div.sk-dashed-wrapped {\n",
       "  border: 1px dashed var(--sklearn-color-line);\n",
       "  margin: 0 0.4em 0.5em 0.4em;\n",
       "  box-sizing: border-box;\n",
       "  padding-bottom: 0.4em;\n",
       "  background-color: var(--sklearn-color-background);\n",
       "}\n",
       "\n",
       "#sk-container-id-2 div.sk-container {\n",
       "  /* jupyter's `normalize.less` sets `[hidden] { display: none; }`\n",
       "     but bootstrap.min.css set `[hidden] { display: none !important; }`\n",
       "     so we also need the `!important` here to be able to override the\n",
       "     default hidden behavior on the sphinx rendered scikit-learn.org.\n",
       "     See: https://github.com/scikit-learn/scikit-learn/issues/21755 */\n",
       "  display: inline-block !important;\n",
       "  position: relative;\n",
       "}\n",
       "\n",
       "#sk-container-id-2 div.sk-text-repr-fallback {\n",
       "  display: none;\n",
       "}\n",
       "\n",
       "div.sk-parallel-item,\n",
       "div.sk-serial,\n",
       "div.sk-item {\n",
       "  /* draw centered vertical line to link estimators */\n",
       "  background-image: linear-gradient(var(--sklearn-color-text-on-default-background), var(--sklearn-color-text-on-default-background));\n",
       "  background-size: 2px 100%;\n",
       "  background-repeat: no-repeat;\n",
       "  background-position: center center;\n",
       "}\n",
       "\n",
       "/* Parallel-specific style estimator block */\n",
       "\n",
       "#sk-container-id-2 div.sk-parallel-item::after {\n",
       "  content: \"\";\n",
       "  width: 100%;\n",
       "  border-bottom: 2px solid var(--sklearn-color-text-on-default-background);\n",
       "  flex-grow: 1;\n",
       "}\n",
       "\n",
       "#sk-container-id-2 div.sk-parallel {\n",
       "  display: flex;\n",
       "  align-items: stretch;\n",
       "  justify-content: center;\n",
       "  background-color: var(--sklearn-color-background);\n",
       "  position: relative;\n",
       "}\n",
       "\n",
       "#sk-container-id-2 div.sk-parallel-item {\n",
       "  display: flex;\n",
       "  flex-direction: column;\n",
       "}\n",
       "\n",
       "#sk-container-id-2 div.sk-parallel-item:first-child::after {\n",
       "  align-self: flex-end;\n",
       "  width: 50%;\n",
       "}\n",
       "\n",
       "#sk-container-id-2 div.sk-parallel-item:last-child::after {\n",
       "  align-self: flex-start;\n",
       "  width: 50%;\n",
       "}\n",
       "\n",
       "#sk-container-id-2 div.sk-parallel-item:only-child::after {\n",
       "  width: 0;\n",
       "}\n",
       "\n",
       "/* Serial-specific style estimator block */\n",
       "\n",
       "#sk-container-id-2 div.sk-serial {\n",
       "  display: flex;\n",
       "  flex-direction: column;\n",
       "  align-items: center;\n",
       "  background-color: var(--sklearn-color-background);\n",
       "  padding-right: 1em;\n",
       "  padding-left: 1em;\n",
       "}\n",
       "\n",
       "\n",
       "/* Toggleable style: style used for estimator/Pipeline/ColumnTransformer box that is\n",
       "clickable and can be expanded/collapsed.\n",
       "- Pipeline and ColumnTransformer use this feature and define the default style\n",
       "- Estimators will overwrite some part of the style using the `sk-estimator` class\n",
       "*/\n",
       "\n",
       "/* Pipeline and ColumnTransformer style (default) */\n",
       "\n",
       "#sk-container-id-2 div.sk-toggleable {\n",
       "  /* Default theme specific background. It is overwritten whether we have a\n",
       "  specific estimator or a Pipeline/ColumnTransformer */\n",
       "  background-color: var(--sklearn-color-background);\n",
       "}\n",
       "\n",
       "/* Toggleable label */\n",
       "#sk-container-id-2 label.sk-toggleable__label {\n",
       "  cursor: pointer;\n",
       "  display: block;\n",
       "  width: 100%;\n",
       "  margin-bottom: 0;\n",
       "  padding: 0.5em;\n",
       "  box-sizing: border-box;\n",
       "  text-align: center;\n",
       "}\n",
       "\n",
       "#sk-container-id-2 label.sk-toggleable__label-arrow:before {\n",
       "  /* Arrow on the left of the label */\n",
       "  content: \"▸\";\n",
       "  float: left;\n",
       "  margin-right: 0.25em;\n",
       "  color: var(--sklearn-color-icon);\n",
       "}\n",
       "\n",
       "#sk-container-id-2 label.sk-toggleable__label-arrow:hover:before {\n",
       "  color: var(--sklearn-color-text);\n",
       "}\n",
       "\n",
       "/* Toggleable content - dropdown */\n",
       "\n",
       "#sk-container-id-2 div.sk-toggleable__content {\n",
       "  max-height: 0;\n",
       "  max-width: 0;\n",
       "  overflow: hidden;\n",
       "  text-align: left;\n",
       "  /* unfitted */\n",
       "  background-color: var(--sklearn-color-unfitted-level-0);\n",
       "}\n",
       "\n",
       "#sk-container-id-2 div.sk-toggleable__content.fitted {\n",
       "  /* fitted */\n",
       "  background-color: var(--sklearn-color-fitted-level-0);\n",
       "}\n",
       "\n",
       "#sk-container-id-2 div.sk-toggleable__content pre {\n",
       "  margin: 0.2em;\n",
       "  border-radius: 0.25em;\n",
       "  color: var(--sklearn-color-text);\n",
       "  /* unfitted */\n",
       "  background-color: var(--sklearn-color-unfitted-level-0);\n",
       "}\n",
       "\n",
       "#sk-container-id-2 div.sk-toggleable__content.fitted pre {\n",
       "  /* unfitted */\n",
       "  background-color: var(--sklearn-color-fitted-level-0);\n",
       "}\n",
       "\n",
       "#sk-container-id-2 input.sk-toggleable__control:checked~div.sk-toggleable__content {\n",
       "  /* Expand drop-down */\n",
       "  max-height: 200px;\n",
       "  max-width: 100%;\n",
       "  overflow: auto;\n",
       "}\n",
       "\n",
       "#sk-container-id-2 input.sk-toggleable__control:checked~label.sk-toggleable__label-arrow:before {\n",
       "  content: \"▾\";\n",
       "}\n",
       "\n",
       "/* Pipeline/ColumnTransformer-specific style */\n",
       "\n",
       "#sk-container-id-2 div.sk-label input.sk-toggleable__control:checked~label.sk-toggleable__label {\n",
       "  color: var(--sklearn-color-text);\n",
       "  background-color: var(--sklearn-color-unfitted-level-2);\n",
       "}\n",
       "\n",
       "#sk-container-id-2 div.sk-label.fitted input.sk-toggleable__control:checked~label.sk-toggleable__label {\n",
       "  background-color: var(--sklearn-color-fitted-level-2);\n",
       "}\n",
       "\n",
       "/* Estimator-specific style */\n",
       "\n",
       "/* Colorize estimator box */\n",
       "#sk-container-id-2 div.sk-estimator input.sk-toggleable__control:checked~label.sk-toggleable__label {\n",
       "  /* unfitted */\n",
       "  background-color: var(--sklearn-color-unfitted-level-2);\n",
       "}\n",
       "\n",
       "#sk-container-id-2 div.sk-estimator.fitted input.sk-toggleable__control:checked~label.sk-toggleable__label {\n",
       "  /* fitted */\n",
       "  background-color: var(--sklearn-color-fitted-level-2);\n",
       "}\n",
       "\n",
       "#sk-container-id-2 div.sk-label label.sk-toggleable__label,\n",
       "#sk-container-id-2 div.sk-label label {\n",
       "  /* The background is the default theme color */\n",
       "  color: var(--sklearn-color-text-on-default-background);\n",
       "}\n",
       "\n",
       "/* On hover, darken the color of the background */\n",
       "#sk-container-id-2 div.sk-label:hover label.sk-toggleable__label {\n",
       "  color: var(--sklearn-color-text);\n",
       "  background-color: var(--sklearn-color-unfitted-level-2);\n",
       "}\n",
       "\n",
       "/* Label box, darken color on hover, fitted */\n",
       "#sk-container-id-2 div.sk-label.fitted:hover label.sk-toggleable__label.fitted {\n",
       "  color: var(--sklearn-color-text);\n",
       "  background-color: var(--sklearn-color-fitted-level-2);\n",
       "}\n",
       "\n",
       "/* Estimator label */\n",
       "\n",
       "#sk-container-id-2 div.sk-label label {\n",
       "  font-family: monospace;\n",
       "  font-weight: bold;\n",
       "  display: inline-block;\n",
       "  line-height: 1.2em;\n",
       "}\n",
       "\n",
       "#sk-container-id-2 div.sk-label-container {\n",
       "  text-align: center;\n",
       "}\n",
       "\n",
       "/* Estimator-specific */\n",
       "#sk-container-id-2 div.sk-estimator {\n",
       "  font-family: monospace;\n",
       "  border: 1px dotted var(--sklearn-color-border-box);\n",
       "  border-radius: 0.25em;\n",
       "  box-sizing: border-box;\n",
       "  margin-bottom: 0.5em;\n",
       "  /* unfitted */\n",
       "  background-color: var(--sklearn-color-unfitted-level-0);\n",
       "}\n",
       "\n",
       "#sk-container-id-2 div.sk-estimator.fitted {\n",
       "  /* fitted */\n",
       "  background-color: var(--sklearn-color-fitted-level-0);\n",
       "}\n",
       "\n",
       "/* on hover */\n",
       "#sk-container-id-2 div.sk-estimator:hover {\n",
       "  /* unfitted */\n",
       "  background-color: var(--sklearn-color-unfitted-level-2);\n",
       "}\n",
       "\n",
       "#sk-container-id-2 div.sk-estimator.fitted:hover {\n",
       "  /* fitted */\n",
       "  background-color: var(--sklearn-color-fitted-level-2);\n",
       "}\n",
       "\n",
       "/* Specification for estimator info (e.g. \"i\" and \"?\") */\n",
       "\n",
       "/* Common style for \"i\" and \"?\" */\n",
       "\n",
       ".sk-estimator-doc-link,\n",
       "a:link.sk-estimator-doc-link,\n",
       "a:visited.sk-estimator-doc-link {\n",
       "  float: right;\n",
       "  font-size: smaller;\n",
       "  line-height: 1em;\n",
       "  font-family: monospace;\n",
       "  background-color: var(--sklearn-color-background);\n",
       "  border-radius: 1em;\n",
       "  height: 1em;\n",
       "  width: 1em;\n",
       "  text-decoration: none !important;\n",
       "  margin-left: 1ex;\n",
       "  /* unfitted */\n",
       "  border: var(--sklearn-color-unfitted-level-1) 1pt solid;\n",
       "  color: var(--sklearn-color-unfitted-level-1);\n",
       "}\n",
       "\n",
       ".sk-estimator-doc-link.fitted,\n",
       "a:link.sk-estimator-doc-link.fitted,\n",
       "a:visited.sk-estimator-doc-link.fitted {\n",
       "  /* fitted */\n",
       "  border: var(--sklearn-color-fitted-level-1) 1pt solid;\n",
       "  color: var(--sklearn-color-fitted-level-1);\n",
       "}\n",
       "\n",
       "/* On hover */\n",
       "div.sk-estimator:hover .sk-estimator-doc-link:hover,\n",
       ".sk-estimator-doc-link:hover,\n",
       "div.sk-label-container:hover .sk-estimator-doc-link:hover,\n",
       ".sk-estimator-doc-link:hover {\n",
       "  /* unfitted */\n",
       "  background-color: var(--sklearn-color-unfitted-level-3);\n",
       "  color: var(--sklearn-color-background);\n",
       "  text-decoration: none;\n",
       "}\n",
       "\n",
       "div.sk-estimator.fitted:hover .sk-estimator-doc-link.fitted:hover,\n",
       ".sk-estimator-doc-link.fitted:hover,\n",
       "div.sk-label-container:hover .sk-estimator-doc-link.fitted:hover,\n",
       ".sk-estimator-doc-link.fitted:hover {\n",
       "  /* fitted */\n",
       "  background-color: var(--sklearn-color-fitted-level-3);\n",
       "  color: var(--sklearn-color-background);\n",
       "  text-decoration: none;\n",
       "}\n",
       "\n",
       "/* Span, style for the box shown on hovering the info icon */\n",
       ".sk-estimator-doc-link span {\n",
       "  display: none;\n",
       "  z-index: 9999;\n",
       "  position: relative;\n",
       "  font-weight: normal;\n",
       "  right: .2ex;\n",
       "  padding: .5ex;\n",
       "  margin: .5ex;\n",
       "  width: min-content;\n",
       "  min-width: 20ex;\n",
       "  max-width: 50ex;\n",
       "  color: var(--sklearn-color-text);\n",
       "  box-shadow: 2pt 2pt 4pt #999;\n",
       "  /* unfitted */\n",
       "  background: var(--sklearn-color-unfitted-level-0);\n",
       "  border: .5pt solid var(--sklearn-color-unfitted-level-3);\n",
       "}\n",
       "\n",
       ".sk-estimator-doc-link.fitted span {\n",
       "  /* fitted */\n",
       "  background: var(--sklearn-color-fitted-level-0);\n",
       "  border: var(--sklearn-color-fitted-level-3);\n",
       "}\n",
       "\n",
       ".sk-estimator-doc-link:hover span {\n",
       "  display: block;\n",
       "}\n",
       "\n",
       "/* \"?\"-specific style due to the `<a>` HTML tag */\n",
       "\n",
       "#sk-container-id-2 a.estimator_doc_link {\n",
       "  float: right;\n",
       "  font-size: 1rem;\n",
       "  line-height: 1em;\n",
       "  font-family: monospace;\n",
       "  background-color: var(--sklearn-color-background);\n",
       "  border-radius: 1rem;\n",
       "  height: 1rem;\n",
       "  width: 1rem;\n",
       "  text-decoration: none;\n",
       "  /* unfitted */\n",
       "  color: var(--sklearn-color-unfitted-level-1);\n",
       "  border: var(--sklearn-color-unfitted-level-1) 1pt solid;\n",
       "}\n",
       "\n",
       "#sk-container-id-2 a.estimator_doc_link.fitted {\n",
       "  /* fitted */\n",
       "  border: var(--sklearn-color-fitted-level-1) 1pt solid;\n",
       "  color: var(--sklearn-color-fitted-level-1);\n",
       "}\n",
       "\n",
       "/* On hover */\n",
       "#sk-container-id-2 a.estimator_doc_link:hover {\n",
       "  /* unfitted */\n",
       "  background-color: var(--sklearn-color-unfitted-level-3);\n",
       "  color: var(--sklearn-color-background);\n",
       "  text-decoration: none;\n",
       "}\n",
       "\n",
       "#sk-container-id-2 a.estimator_doc_link.fitted:hover {\n",
       "  /* fitted */\n",
       "  background-color: var(--sklearn-color-fitted-level-3);\n",
       "}\n",
       "</style><div id=\"sk-container-id-2\" class=\"sk-top-container\"><div class=\"sk-text-repr-fallback\"><pre>XGBClassifier(base_score=None, booster=None, callbacks=None,\n",
       "              colsample_bylevel=None, colsample_bynode=None,\n",
       "              colsample_bytree=None, device=None, early_stopping_rounds=None,\n",
       "              enable_categorical=False, eval_metric=None, feature_types=None,\n",
       "              gamma=None, grow_policy=None, importance_type=None,\n",
       "              interaction_constraints=None, learning_rate=None, max_bin=None,\n",
       "              max_cat_threshold=None, max_cat_to_onehot=None,\n",
       "              max_delta_step=None, max_depth=10, max_leaves=None,\n",
       "              min_child_weight=None, missing=nan, monotone_constraints=None,\n",
       "              multi_strategy=None, n_estimators=100, n_jobs=None,\n",
       "              num_parallel_tree=None, objective=&#x27;multi:softprob&#x27;, ...)</pre><b>In a Jupyter environment, please rerun this cell to show the HTML representation or trust the notebook. <br />On GitHub, the HTML representation is unable to render, please try loading this page with nbviewer.org.</b></div><div class=\"sk-container\" hidden><div class=\"sk-item\"><div class=\"sk-estimator fitted sk-toggleable\"><input class=\"sk-toggleable__control sk-hidden--visually\" id=\"sk-estimator-id-2\" type=\"checkbox\" checked><label for=\"sk-estimator-id-2\" class=\"sk-toggleable__label fitted sk-toggleable__label-arrow fitted\">&nbsp;XGBClassifier<span class=\"sk-estimator-doc-link fitted\">i<span>Fitted</span></span></label><div class=\"sk-toggleable__content fitted\"><pre>XGBClassifier(base_score=None, booster=None, callbacks=None,\n",
       "              colsample_bylevel=None, colsample_bynode=None,\n",
       "              colsample_bytree=None, device=None, early_stopping_rounds=None,\n",
       "              enable_categorical=False, eval_metric=None, feature_types=None,\n",
       "              gamma=None, grow_policy=None, importance_type=None,\n",
       "              interaction_constraints=None, learning_rate=None, max_bin=None,\n",
       "              max_cat_threshold=None, max_cat_to_onehot=None,\n",
       "              max_delta_step=None, max_depth=10, max_leaves=None,\n",
       "              min_child_weight=None, missing=nan, monotone_constraints=None,\n",
       "              multi_strategy=None, n_estimators=100, n_jobs=None,\n",
       "              num_parallel_tree=None, objective=&#x27;multi:softprob&#x27;, ...)</pre></div> </div></div></div></div>"
      ],
      "text/plain": [
       "XGBClassifier(base_score=None, booster=None, callbacks=None,\n",
       "              colsample_bylevel=None, colsample_bynode=None,\n",
       "              colsample_bytree=None, device=None, early_stopping_rounds=None,\n",
       "              enable_categorical=False, eval_metric=None, feature_types=None,\n",
       "              gamma=None, grow_policy=None, importance_type=None,\n",
       "              interaction_constraints=None, learning_rate=None, max_bin=None,\n",
       "              max_cat_threshold=None, max_cat_to_onehot=None,\n",
       "              max_delta_step=None, max_depth=10, max_leaves=None,\n",
       "              min_child_weight=None, missing=nan, monotone_constraints=None,\n",
       "              multi_strategy=None, n_estimators=100, n_jobs=None,\n",
       "              num_parallel_tree=None, objective='multi:softprob', ...)"
      ]
     },
     "execution_count": 79,
     "metadata": {},
     "output_type": "execute_result"
    }
   ],
   "source": [
    "# Step 3: Define and fit the classifier\n",
    "classifier = XGBClassifier(n_estimators=100, max_depth=10, random_state=42)\n",
    "classifier.fit(X_preprocessed, y)"
   ]
  },
  {
   "cell_type": "code",
   "execution_count": 80,
   "id": "9fd92c64-cb4a-4d28-b233-11c17605594b",
   "metadata": {
    "tags": []
   },
   "outputs": [],
   "source": [
    "import matplotlib.pyplot as plt\n",
    "import seaborn as sns"
   ]
  },
  {
   "cell_type": "code",
   "execution_count": 81,
   "id": "fee77819-799f-4c20-9274-7ef8304030ad",
   "metadata": {
    "tags": []
   },
   "outputs": [
    {
     "data": {
      "text/plain": [
       "(1252, 121)"
      ]
     },
     "execution_count": 81,
     "metadata": {},
     "output_type": "execute_result"
    }
   ],
   "source": [
    "X_train.shape"
   ]
  },
  {
   "cell_type": "code",
   "execution_count": 82,
   "id": "47cff435-2550-4ef3-8be1-be049f171ea7",
   "metadata": {
    "tags": []
   },
   "outputs": [
    {
     "name": "stdout",
     "output_type": "stream",
     "text": [
      "Accuracy: 0.95\n",
      "Classification Report:\n",
      "               precision    recall  f1-score   support\n",
      "\n",
      "         low       1.00      0.36      0.53        11\n",
      "      medium       0.97      1.00      0.99       279\n",
      "        high       0.68      0.65      0.67        23\n",
      "\n",
      "    accuracy                           0.95       313\n",
      "   macro avg       0.88      0.67      0.73       313\n",
      "weighted avg       0.95      0.95      0.95       313\n",
      "\n"
     ]
    }
   ],
   "source": [
    "# Predict on the test data\n",
    "y_pred = classifier.predict(X_test)\n",
    "\n",
    "# Evaluate the model\n",
    "accuracy = accuracy_score(y_test, y_pred)\n",
    "report = classification_report(y_test, y_pred, target_names=labels)  # Use labels directly\n",
    "\n",
    "print(f\"Accuracy: {accuracy:.2f}\")\n",
    "print(\"Classification Report:\\n\", report)"
   ]
  },
  {
   "cell_type": "code",
   "execution_count": null,
   "id": "fbd2e5e4-83bc-4ae9-a68b-301b559ee3c8",
   "metadata": {
    "tags": []
   },
   "outputs": [],
   "source": [
    "# Seaborn KDE plot\n",
    "plt.figure(figsize=(10, 6))\n",
    "sns.kdeplot(df['helpful_votes'], fill=True, color=\"skyblue\")\n",
    "plt.title(\"Distribution of Helpful Votes (KDE)\")\n",
    "plt.xlabel(\"Helpful Votes\")\n",
    "plt.ylabel(\"Density\")\n",
    "plt.show()"
   ]
  },
  {
   "cell_type": "code",
   "execution_count": 74,
   "id": "5d8d89b7-3998-42b4-b72a-f6f87a8c94c9",
   "metadata": {
    "tags": []
   },
   "outputs": [
    {
     "data": {
      "image/png": "[encoded data removed]",
      "text/plain": [
       "<Figure size 1000x600 with 1 Axes>"
      ]
     },
     "metadata": {},
     "output_type": "display_data"
    }
   ],
   "source": [
    "# Apply log transformation to the 'helpful_votes' column to handle skewness\n",
    "df['log_helpful_votes'] = np.log1p(df['helpful_votes'])\n",
    "\n",
    "# Plotting the KDE and histogram for log-transformed data\n",
    "plt.figure(figsize=(10, 6))\n",
    "sns.histplot(df['log_helpful_votes'], bins=30, kde=True, color='skyblue', edgecolor='black')\n",
    "plt.title(\"Log-Transformed Distribution of Helpful Votes\")\n",
    "plt.xlabel(\"Log of Helpful Votes\")\n",
    "plt.ylabel(\"Density\")\n",
    "plt.show()"
   ]
  },
  {
   "cell_type": "code",
   "execution_count": null,
   "id": "f853f272-5af4-408a-a050-b0adf46f80b6",
   "metadata": {},
   "outputs": [],
   "source": []
  },
  {
   "cell_type": "code",
   "execution_count": null,
   "id": "967ed807-a32d-4779-835e-be0ac9f480cf",
   "metadata": {},
   "outputs": [],
   "source": []
  },
  {
   "cell_type": "code",
   "execution_count": null,
   "id": "40e03cc9-cb60-4d08-b527-6dee29bde266",
   "metadata": {},
   "outputs": [],
   "source": []
  },
  {
   "cell_type": "code",
   "execution_count": null,
   "id": "aa9a35f4-1b2f-4b05-96ab-cdcd644c8548",
   "metadata": {},
   "outputs": [],
   "source": []
  },
  {
   "cell_type": "code",
   "execution_count": null,
   "id": "f52ea241-0615-49f5-a009-e04374c6f5ba",
   "metadata": {},
   "outputs": [],
   "source": []
  },
  {
   "cell_type": "code",
   "execution_count": null,
   "id": "ab77ed26-d894-406a-9a7b-4fa632c00666",
   "metadata": {},
   "outputs": [],
   "source": []
  },
  {
   "cell_type": "code",
   "execution_count": null,
   "id": "008e26a6-8886-4f7e-ae68-fff0f74487e0",
   "metadata": {},
   "outputs": [],
   "source": []
  },
  {
   "cell_type": "code",
   "execution_count": null,
   "id": "c43a16e6-8254-4540-9384-d68a0e523407",
   "metadata": {},
   "outputs": [],
   "source": []
  },
  {
   "cell_type": "code",
   "execution_count": null,
   "id": "fb26cf87-0f6a-4b30-bb0d-aa318f1bd146",
   "metadata": {},
   "outputs": [],
   "source": []
  },
  {
   "cell_type": "code",
   "execution_count": null,
   "id": "7e1340b7-638c-4517-b70d-44cc709218d9",
   "metadata": {},
   "outputs": [],
   "source": []
  },
  {
   "cell_type": "code",
   "execution_count": null,
   "id": "1384fbce-55d9-4813-9ac1-75505cbdeee5",
   "metadata": {},
   "outputs": [],
   "source": []
  },
  {
   "cell_type": "code",
   "execution_count": null,
   "id": "30085609-8e92-4159-8ffc-f7a169c15438",
   "metadata": {},
   "outputs": [],
   "source": []
  },
  {
   "cell_type": "code",
   "execution_count": null,
   "id": "c58eac66-a053-450c-a69c-b060f68142a6",
   "metadata": {},
   "outputs": [],
   "source": []
  },
  {
   "cell_type": "code",
   "execution_count": null,
   "id": "8ad0df05-1649-4819-b308-002b7f39f94e",
   "metadata": {},
   "outputs": [],
   "source": []
  },
  {
   "cell_type": "code",
   "execution_count": null,
   "id": "a4731962-b20b-44e3-b6e1-e0bafda7d9ab",
   "metadata": {},
   "outputs": [],
   "source": []
  },
  {
   "cell_type": "code",
   "execution_count": null,
   "id": "30923b99-e79b-45d3-8492-d6ff47feae6f",
   "metadata": {},
   "outputs": [],
   "source": []
  },
  {
   "cell_type": "code",
   "execution_count": null,
   "id": "68fa17a3-fe5c-401b-9559-3d75c1fe447f",
   "metadata": {},
   "outputs": [],
   "source": []
  },
  {
   "cell_type": "code",
   "execution_count": null,
   "id": "9ca663af-a938-4f75-9f2f-b967e4f1a248",
   "metadata": {},
   "outputs": [],
   "source": []
  },
  {
   "cell_type": "code",
   "execution_count": null,
   "id": "33e6bc82-4e6f-458c-8d09-90e298f8fe67",
   "metadata": {},
   "outputs": [],
   "source": []
  },
  {
   "cell_type": "code",
   "execution_count": null,
   "id": "b7579354-8aae-4f1a-b23e-7685df50d454",
   "metadata": {},
   "outputs": [],
   "source": []
  },
  {
   "cell_type": "code",
   "execution_count": null,
   "id": "99bd9f5e-6596-4a05-88f6-e40d62e4a09d",
   "metadata": {},
   "outputs": [],
   "source": []
  },
  {
   "cell_type": "code",
   "execution_count": null,
   "id": "8ba09ddb-abf1-4f29-a49f-e7bcbe00da3a",
   "metadata": {},
   "outputs": [],
   "source": []
  },
  {
   "cell_type": "code",
   "execution_count": null,
   "id": "6f0af204-0305-4de4-94d9-e5218a37e7d6",
   "metadata": {},
   "outputs": [],
   "source": []
  },
  {
   "cell_type": "code",
   "execution_count": null,
   "id": "059c02b0-c11a-4b00-b595-b2335feafb55",
   "metadata": {
    "tags": []
   },
   "outputs": [],
   "source": [
    "import os\n",
    "from google.cloud import storage\n",
    "\n",
    "# Set up Google Cloud Storage client\n",
    "client = storage.Client()\n",
    "\n",
    "# Define local and GCS paths\n",
    "local_model_path_v1 = \"/tmp/model_v1.bst\"\n",
    "local_model_path_v2 = \"/tmp/model_v2.bst\"\n",
    "gcs_model_path_v1 = \"gs://amazon-reviews-project/experiment/model_v1/model.bst\"\n",
    "gcs_model_path_v2 = \"gs://amazon-reviews-project/experiment/model_v2/model.bst\"\n",
    "\n",
    "# Save model locally\n",
    "classifier.save_model(local_model_path_v1)\n",
    "classifier.save_model(local_model_path_v2)\n",
    "\n",
    "# Function to upload to Google Cloud Storage\n",
    "def upload_to_gcs(local_path, gcs_path):\n",
    "    bucket_name, blob_name = gcs_path[5:].split(\"/\", 1)\n",
    "    bucket = client.bucket(bucket_name)\n",
    "    blob = bucket.blob(blob_name)\n",
    "    blob.upload_from_filename(local_path)\n",
    "    print(f\"Uploaded {local_path} to {gcs_path}\")\n",
    "\n",
    "# Upload models to Google Cloud Storage\n",
    "upload_to_gcs(local_model_path_v1, gcs_model_path_v1)\n",
    "upload_to_gcs(local_model_path_v2, gcs_model_path_v2)\n"
   ]
  },
  {
   "cell_type": "code",
   "execution_count": null,
   "id": "1d890bb2-48ff-4de7-89ef-8b154c5e9c2e",
   "metadata": {
    "tags": []
   },
   "outputs": [],
   "source": [
    "import google.cloud.aiplatform as aip"
   ]
  },
  {
   "cell_type": "code",
   "execution_count": null,
   "id": "2164430f-34c5-4fd7-971a-f6e3794d3595",
   "metadata": {
    "tags": []
   },
   "outputs": [],
   "source": [
    "DEPLOY_IMAGE = \"us-docker.pkg.dev/vertex-ai/prediction/xgboost-cpu.1.7:latest\""
   ]
  },
  {
   "cell_type": "code",
   "execution_count": null,
   "id": "3a1e18ef-012b-4085-81e5-d63da62c6710",
   "metadata": {
    "tags": []
   },
   "outputs": [],
   "source": [
    "model_v1 = aip.Model.upload(\n",
    "    display_name=\"example_\",\n",
    "    artifact_uri=\"gs://amazon-reviews-project/experiment/model_v1\",\n",
    "    serving_container_image_uri=DEPLOY_IMAGE,\n",
    "    is_default_version=True,\n",
    "    version_aliases=[\"v3\"],\n",
    "    version_description=\"This is the first version of the model\",\n",
    ")\n",
    "\n",
    "print(model_v1)"
   ]
  },
  {
   "cell_type": "code",
   "execution_count": null,
   "id": "92b2e4ff-3d12-4629-892f-3d3ed7f194ea",
   "metadata": {
    "tags": []
   },
   "outputs": [],
   "source": [
    "model_v2 = aip.Model.upload(\n",
    "    display_name=\"example_\",\n",
    "    artifact_uri=\"gs://amazon-reviews-project/experiment/model_v2\",\n",
    "    serving_container_image_uri=DEPLOY_IMAGE,\n",
    "    parent_model=model_v1.resource_name,\n",
    "    is_default_version=True,\n",
    "    version_aliases=[\"v4\"],\n",
    "    version_description=\"This is the second version of the model\",\n",
    ")\n",
    "\n",
    "print(model_v2)"
   ]
  },
  {
   "cell_type": "code",
   "execution_count": null,
   "id": "1adde726-27d0-45fc-b9cb-ea125e0de321",
   "metadata": {
    "tags": []
   },
   "outputs": [],
   "source": [
    "PROJECT_ID = \"airy-box-431604-j9\""
   ]
  },
  {
   "cell_type": "code",
   "execution_count": null,
   "id": "5ac4270a-ffc8-4ce2-b4ff-da7991388cb6",
   "metadata": {},
   "outputs": [],
   "source": []
  },
  {
   "cell_type": "code",
   "execution_count": null,
   "id": "5977c1c3-da34-4f10-ad56-5b4a3727eac4",
   "metadata": {
    "tags": []
   },
   "outputs": [],
   "source": [
    "endpoint = aip.Endpoint.create(\n",
    "    display_name=\"example_\",\n",
    "    project=PROJECT_ID,\n",
    "    location=\"us-central1\",\n",
    ")\n",
    "\n",
    "print(endpoint)"
   ]
  },
  {
   "cell_type": "code",
   "execution_count": null,
   "id": "1aa77fcc-e83d-4406-bbb5-10a855c46c98",
   "metadata": {
    "tags": []
   },
   "outputs": [],
   "source": [
    "DEPLOY_COMPUTE = \"n1-standard-4\"\n",
    "print(\"Train machine type\", DEPLOY_COMPUTE)"
   ]
  },
  {
   "cell_type": "code",
   "execution_count": null,
   "id": "dc8b523c-7455-4330-aa73-e2e9c2051e0f",
   "metadata": {
    "tags": []
   },
   "outputs": [],
   "source": [
    "versions = model_v2.versioning_registry.list_versions()\n",
    "for version in versions:\n",
    "    print(version)"
   ]
  },
  {
   "cell_type": "code",
   "execution_count": null,
   "id": "dc9c298d-bfd0-4b51-a623-97ab4a7bc52d",
   "metadata": {
    "tags": []
   },
   "outputs": [],
   "source": [
    "models = aip.Model.list(filter=\"display_name=example_\")\n",
    "print(\"Number of models:\", len(models))\n",
    "print(\"Version ID:\", models[0].version_id)\n",
    "\n",
    "model = models[0]"
   ]
  },
  {
   "cell_type": "code",
   "execution_count": null,
   "id": "b85d4857-17b5-43c1-a5fa-157208a14de5",
   "metadata": {
    "tags": []
   },
   "outputs": [],
   "source": [
    "model"
   ]
  },
  {
   "cell_type": "code",
   "execution_count": null,
   "id": "ae82c11a-9901-45bf-bcff-2200701332fd",
   "metadata": {
    "tags": []
   },
   "outputs": [],
   "source": [
    "response = endpoint.deploy(\n",
    "    model=model,\n",
    "    deployed_model_display_name=\"example_\",\n",
    "    machine_type=DEPLOY_COMPUTE,\n",
    ")\n",
    "\n",
    "print(endpoint)"
   ]
  },
  {
   "cell_type": "code",
   "execution_count": null,
   "id": "debdbc79-fe84-4383-aaf2-a92cc780ba75",
   "metadata": {},
   "outputs": [],
   "source": []
  }
 ],
 "metadata": {
  "environment": {
   "kernel": "conda-base-py",
   "name": "workbench-notebooks.m125",
   "type": "gcloud",
   "uri": "us-docker.pkg.dev/deeplearning-platform-release/gcr.io/workbench-notebooks:m125"
  },
  "kernelspec": {
   "display_name": "Python 3 (ipykernel) (Local)",
   "language": "python",
   "name": "conda-base-py"
  },
  "language_info": {
   "codemirror_mode": {
    "name": "ipython",
    "version": 3
   },
   "file_extension": ".py",
   "mimetype": "text/x-python",
   "name": "python",
   "nbconvert_exporter": "python",
   "pygments_lexer": "ipython3",
   "version": "3.10.15"
  }
 },
 "nbformat": 4,
 "nbformat_minor": 5
}
