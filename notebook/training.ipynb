{
 "cells": [
  {
   "cell_type": "code",
   "execution_count": 2,
   "id": "647e30ea-07a1-4db7-94cd-54dff28ed644",
   "metadata": {
    "tags": []
   },
   "outputs": [
    {
     "name": "stdout",
     "output_type": "stream",
     "text": [
      "Collecting textblob\n",
      "  Downloading textblob-0.18.0.post0-py3-none-any.whl.metadata (4.5 kB)\n",
      "Collecting nltk>=3.8 (from textblob)\n",
      "  Downloading nltk-3.9.1-py3-none-any.whl.metadata (2.9 kB)\n",
      "Requirement already satisfied: click in /opt/conda/lib/python3.10/site-packages (from nltk>=3.8->textblob) (8.1.7)\n",
      "Requirement already satisfied: joblib in /opt/conda/lib/python3.10/site-packages (from nltk>=3.8->textblob) (1.4.2)\n",
      "Collecting regex>=2021.8.3 (from nltk>=3.8->textblob)\n",
      "  Downloading regex-2024.9.11-cp310-cp310-manylinux_2_17_x86_64.manylinux2014_x86_64.whl.metadata (40 kB)\n",
      "Requirement already satisfied: tqdm in /opt/conda/lib/python3.10/site-packages (from nltk>=3.8->textblob) (4.66.5)\n",
      "Downloading textblob-0.18.0.post0-py3-none-any.whl (626 kB)\n",
      "\u001b[2K   \u001b[90m━━━━━━━━━━━━━━━━━━━━━━━━━━━━━━━━━━━━━━━━\u001b[0m \u001b[32m626.3/626.3 kB\u001b[0m \u001b[31m16.5 MB/s\u001b[0m eta \u001b[36m0:00:00\u001b[0m\n",
      "\u001b[?25hDownloading nltk-3.9.1-py3-none-any.whl (1.5 MB)\n",
      "\u001b[2K   \u001b[90m━━━━━━━━━━━━━━━━━━━━━━━━━━━━━━━━━━━━━━━━\u001b[0m \u001b[32m1.5/1.5 MB\u001b[0m \u001b[31m41.8 MB/s\u001b[0m eta \u001b[36m0:00:00\u001b[0m\n",
      "\u001b[?25hDownloading regex-2024.9.11-cp310-cp310-manylinux_2_17_x86_64.manylinux2014_x86_64.whl (782 kB)\n",
      "\u001b[2K   \u001b[90m━━━━━━━━━━━━━━━━━━━━━━━━━━━━━━━━━━━━━━━━\u001b[0m \u001b[32m782.7/782.7 kB\u001b[0m \u001b[31m34.3 MB/s\u001b[0m eta \u001b[36m0:00:00\u001b[0m\n",
      "\u001b[?25hInstalling collected packages: regex, nltk, textblob\n",
      "Successfully installed nltk-3.9.1 regex-2024.9.11 textblob-0.18.0.post0\n",
      "Note: you may need to restart the kernel to use updated packages.\n"
     ]
    }
   ],
   "source": [
    "pip install textblob"
   ]
  },
  {
   "cell_type": "code",
   "execution_count": 3,
   "id": "0238ed67-f08c-48fb-8a68-8f8630fec2c7",
   "metadata": {
    "tags": []
   },
   "outputs": [
    {
     "name": "stderr",
     "output_type": "stream",
     "text": [
      "[nltk_data] Downloading package stopwords to\n",
      "[nltk_data]     /home/jupyter/nltk_data...\n",
      "[nltk_data]   Unzipping corpora/stopwords.zip.\n",
      "[nltk_data] Downloading package punkt to /home/jupyter/nltk_data...\n",
      "[nltk_data]   Unzipping tokenizers/punkt.zip.\n"
     ]
    },
    {
     "data": {
      "text/plain": [
       "True"
      ]
     },
     "execution_count": 3,
     "metadata": {},
     "output_type": "execute_result"
    }
   ],
   "source": [
    "import pandas as pd\n",
    "import numpy as np\n",
    "from textblob import TextBlob\n",
    "from sklearn.feature_extraction.text import TfidfVectorizer\n",
    "from sklearn.preprocessing import LabelEncoder\n",
    "import re\n",
    "import nltk\n",
    "from nltk.corpus import stopwords\n",
    "from nltk.tokenize import word_tokenize\n",
    "nltk.download('stopwords')\n",
    "nltk.download('punkt')"
   ]
  },
  {
   "cell_type": "code",
   "execution_count": 4,
   "id": "4eaf4363-6737-43fd-bcec-5c4691f3ea80",
   "metadata": {
    "tags": []
   },
   "outputs": [
    {
     "data": {
      "text/html": [
       "<div>\n",
       "<style scoped>\n",
       "    .dataframe tbody tr th:only-of-type {\n",
       "        vertical-align: middle;\n",
       "    }\n",
       "\n",
       "    .dataframe tbody tr th {\n",
       "        vertical-align: top;\n",
       "    }\n",
       "\n",
       "    .dataframe thead th {\n",
       "        text-align: right;\n",
       "    }\n",
       "</style>\n",
       "<table border=\"1\" class=\"dataframe\">\n",
       "  <thead>\n",
       "    <tr style=\"text-align: right;\">\n",
       "      <th></th>\n",
       "      <th>rating</th>\n",
       "      <th>review_hash</th>\n",
       "      <th>review_text</th>\n",
       "      <th>title</th>\n",
       "      <th>helpful_votes</th>\n",
       "    </tr>\n",
       "  </thead>\n",
       "  <tbody>\n",
       "    <tr>\n",
       "      <th>0</th>\n",
       "      <td>1</td>\n",
       "      <td>[1218d212ed5597167f5cb39a029afaa8]</td>\n",
       "      <td>Poor product</td>\n",
       "      <td>Does not power on</td>\n",
       "      <td>0</td>\n",
       "    </tr>\n",
       "    <tr>\n",
       "      <th>1</th>\n",
       "      <td>1</td>\n",
       "      <td>[88c3f69d90a19e4b6cfed2b0b9cdfbea]</td>\n",
       "      <td>Received only charging caseEarbuds missing fro...</td>\n",
       "      <td>Missing parts</td>\n",
       "      <td>0</td>\n",
       "    </tr>\n",
       "    <tr>\n",
       "      <th>2</th>\n",
       "      <td>1</td>\n",
       "      <td>[5efc78b71a890ae3855463ed85610ff7]</td>\n",
       "      <td>Very bed product after 3 month left side earbu...</td>\n",
       "      <td>pt.arvinddabral@gmail.com</td>\n",
       "      <td>0</td>\n",
       "    </tr>\n",
       "    <tr>\n",
       "      <th>3</th>\n",
       "      <td>1</td>\n",
       "      <td>[5d5ff017a6a051fe6c231bf92717343d]</td>\n",
       "      <td>sound is decent but battery dies pretty quick ...</td>\n",
       "      <td>NOT GOOD AT ALL</td>\n",
       "      <td>0</td>\n",
       "    </tr>\n",
       "    <tr>\n",
       "      <th>4</th>\n",
       "      <td>1</td>\n",
       "      <td>[443719dacd2e9a9b8b9289aafbafb973]</td>\n",
       "      <td>I regret buying these earbuds. Even boat and r...</td>\n",
       "      <td>Very cheap earbuds from JBL</td>\n",
       "      <td>0</td>\n",
       "    </tr>\n",
       "  </tbody>\n",
       "</table>\n",
       "</div>"
      ],
      "text/plain": [
       "   rating                         review_hash  \\\n",
       "0       1  [1218d212ed5597167f5cb39a029afaa8]   \n",
       "1       1  [88c3f69d90a19e4b6cfed2b0b9cdfbea]   \n",
       "2       1  [5efc78b71a890ae3855463ed85610ff7]   \n",
       "3       1  [5d5ff017a6a051fe6c231bf92717343d]   \n",
       "4       1  [443719dacd2e9a9b8b9289aafbafb973]   \n",
       "\n",
       "                                         review_text  \\\n",
       "0                                       Poor product   \n",
       "1  Received only charging caseEarbuds missing fro...   \n",
       "2  Very bed product after 3 month left side earbu...   \n",
       "3  sound is decent but battery dies pretty quick ...   \n",
       "4  I regret buying these earbuds. Even boat and r...   \n",
       "\n",
       "                         title helpful_votes  \n",
       "0            Does not power on             0  \n",
       "1                Missing parts             0  \n",
       "2    pt.arvinddabral@gmail.com             0  \n",
       "3              NOT GOOD AT ALL             0  \n",
       "4  Very cheap earbuds from JBL             0  "
      ]
     },
     "execution_count": 4,
     "metadata": {},
     "output_type": "execute_result"
    }
   ],
   "source": [
    "from google.cloud import bigquery\n",
    "\n",
    "# Initialize the BigQuery client\n",
    "client = bigquery.Client()\n",
    "\n",
    "# Replace with your project ID and BigQuery table details\n",
    "project_id = \"airy-box-431604-j9\"\n",
    "dataset_id = \"amazon_reviews\"\n",
    "table_id = \"clean_data\"\n",
    "\n",
    "# Construct the full table ID\n",
    "table_ref = f\"{project_id}.{dataset_id}.{table_id}\"\n",
    "\n",
    "# Query the table\n",
    "query = f\"SELECT * FROM `{table_ref}`\"\n",
    "\n",
    "# Execute the query and convert it to a pandas DataFrame\n",
    "query_job = client.query(query)\n",
    "df = query_job.to_dataframe()\n",
    "\n",
    "# Display the DataFrame\n",
    "df.head()"
   ]
  },
  {
   "cell_type": "code",
   "execution_count": 5,
   "id": "db863394-0aa3-4e87-a588-ee7093a9ec0a",
   "metadata": {
    "tags": []
   },
   "outputs": [
    {
     "name": "stdout",
     "output_type": "stream",
     "text": [
      "<class 'pandas.core.frame.DataFrame'>\n",
      "RangeIndex: 1301 entries, 0 to 1300\n",
      "Data columns (total 5 columns):\n",
      " #   Column         Non-Null Count  Dtype \n",
      "---  ------         --------------  ----- \n",
      " 0   rating         1301 non-null   Int64 \n",
      " 1   review_hash    1301 non-null   object\n",
      " 2   review_text    1301 non-null   object\n",
      " 3   title          1301 non-null   object\n",
      " 4   helpful_votes  1301 non-null   object\n",
      "dtypes: Int64(1), object(4)\n",
      "memory usage: 52.2+ KB\n"
     ]
    }
   ],
   "source": [
    "df.info()"
   ]
  },
  {
   "cell_type": "code",
   "execution_count": 6,
   "id": "12032acd-38a3-497e-ad51-3a52c21954a4",
   "metadata": {
    "tags": []
   },
   "outputs": [],
   "source": [
    "df['helpful_votes'] = df['helpful_votes'].astype(int)"
   ]
  },
  {
   "cell_type": "code",
   "execution_count": 7,
   "id": "4d2c0672-3d8f-4226-be9c-7c5f17e068aa",
   "metadata": {
    "tags": []
   },
   "outputs": [
    {
     "data": {
      "text/plain": [
       "Index(['rating', 'review_hash', 'review_text', 'title', 'helpful_votes'], dtype='object')"
      ]
     },
     "execution_count": 7,
     "metadata": {},
     "output_type": "execute_result"
    }
   ],
   "source": [
    "df.columns"
   ]
  },
  {
   "cell_type": "code",
   "execution_count": 8,
   "id": "25daa807-23e6-4c07-906b-09bc2507f036",
   "metadata": {
    "tags": []
   },
   "outputs": [],
   "source": [
    "df.drop(columns='review_hash', inplace=True)"
   ]
  },
  {
   "cell_type": "markdown",
   "id": "1461d269-8705-4273-9635-7db73f40504e",
   "metadata": {},
   "source": [
    "## Feature Engineering"
   ]
  },
  {
   "cell_type": "code",
   "execution_count": 10,
   "id": "cbf69783-d5a7-4d35-823a-6427aa46b3f1",
   "metadata": {
    "tags": []
   },
   "outputs": [
    {
     "name": "stderr",
     "output_type": "stream",
     "text": [
      "[nltk_data] Downloading package punkt_tab to\n",
      "[nltk_data]     /home/jupyter/nltk_data...\n",
      "[nltk_data]   Unzipping tokenizers/punkt_tab.zip.\n"
     ]
    },
    {
     "data": {
      "text/plain": [
       "True"
      ]
     },
     "execution_count": 10,
     "metadata": {},
     "output_type": "execute_result"
    }
   ],
   "source": [
    "nltk.download('punkt_tab')"
   ]
  },
  {
   "cell_type": "code",
   "execution_count": 11,
   "id": "429037d1-33c1-4d0a-91f2-f4c4884a574d",
   "metadata": {
    "tags": []
   },
   "outputs": [],
   "source": [
    "# Feature 1: Review Length\n",
    "df['review_length'] = df['review_text'].apply(len)\n",
    "df['review_word_count'] = df['review_text'].apply(lambda x: len(word_tokenize(x)))"
   ]
  },
  {
   "cell_type": "code",
   "execution_count": 12,
   "id": "c866a2cc-8903-48e1-bfc9-cae1a93da910",
   "metadata": {
    "tags": []
   },
   "outputs": [],
   "source": [
    "# Feature 2: Sentiment Score\n",
    "df['review_sentiment'] = df['review_text'].apply(lambda x: TextBlob(x).sentiment.polarity)\n",
    "df['review_subjectivity'] = df['review_text'].apply(lambda x: TextBlob(x).sentiment.subjectivity)"
   ]
  },
  {
   "cell_type": "code",
   "execution_count": 13,
   "id": "fd388d34-23bd-4267-bb54-9c5f4c4f5d69",
   "metadata": {
    "tags": []
   },
   "outputs": [],
   "source": [
    "# Feature 3: Readability Score (Flesch-Kincaid Score)\n",
    "def flesch_kincaid(text):\n",
    "    words = word_tokenize(text)\n",
    "    sentences = len(re.split(r'[.!?]', text))\n",
    "    syllables = sum([len([s for s in word if s in 'aeiou']) for word in words])\n",
    "    if len(words) == 0 or sentences == 0:\n",
    "        return np.nan\n",
    "    return 206.835 - (1.015 * (len(words) / sentences)) - (84.6 * (syllables / len(words)))\n",
    "\n",
    "df['flesch_kincaid'] = df['review_text'].apply(flesch_kincaid)"
   ]
  },
  {
   "cell_type": "code",
   "execution_count": 14,
   "id": "2041d9dd-a566-40bd-8c80-44f723367f1b",
   "metadata": {
    "tags": []
   },
   "outputs": [],
   "source": [
    "# Feature 4: TF-IDF Vectors\n",
    "vectorizer = TfidfVectorizer(max_features=100)  # Use max_features to limit dimensions\n",
    "tfidf_matrix = vectorizer.fit_transform(df['review_text'])\n",
    "tfidf_df = pd.DataFrame(tfidf_matrix.toarray(), columns=vectorizer.get_feature_names_out())\n",
    "df = pd.concat([df, tfidf_df], axis=1)"
   ]
  },
  {
   "cell_type": "code",
   "execution_count": 15,
   "id": "838fdf7e-c9e5-4bd8-b913-e2d618aa8ecc",
   "metadata": {
    "tags": []
   },
   "outputs": [],
   "source": [
    "# Feature 5: Presence of Specific Keywords\n",
    "keywords = ['good', 'bad', 'recommend', 'disappoint', 'excellent']\n",
    "for keyword in keywords:\n",
    "    df[f'keyword_{keyword}'] = df['review_text'].apply(lambda x: int(keyword in x.lower()))"
   ]
  },
  {
   "cell_type": "code",
   "execution_count": 16,
   "id": "1ac6d706-fb83-452e-9c59-b5c2e9c82156",
   "metadata": {
    "tags": []
   },
   "outputs": [],
   "source": [
    "# Feature 6: Rating Deviation (assuming you have an average rating for the product)\n",
    "# Suppose `avg_rating` is the average rating for the product\n",
    "avg_rating = df['rating'].mean()\n",
    "df['rating_deviation'] = df['rating'] - avg_rating"
   ]
  },
  {
   "cell_type": "code",
   "execution_count": 17,
   "id": "290f05c3-0b75-4710-b140-07644c55a106",
   "metadata": {
    "tags": []
   },
   "outputs": [],
   "source": [
    "# Feature 7: Title Sentiment\n",
    "df['title_sentiment'] = df['title'].apply(lambda x: TextBlob(x).sentiment.polarity)\n",
    "df['title_length'] = df['title'].apply(len)"
   ]
  },
  {
   "cell_type": "code",
   "execution_count": 20,
   "id": "d204c26f-0020-43b6-aa0d-f2ef69f7eb4e",
   "metadata": {
    "tags": []
   },
   "outputs": [
    {
     "name": "stderr",
     "output_type": "stream",
     "text": [
      "[nltk_data] Downloading package averaged_perceptron_tagger_eng to\n",
      "[nltk_data]     /home/jupyter/nltk_data...\n",
      "[nltk_data]   Unzipping taggers/averaged_perceptron_tagger_eng.zip.\n"
     ]
    },
    {
     "data": {
      "text/plain": [
       "True"
      ]
     },
     "execution_count": 20,
     "metadata": {},
     "output_type": "execute_result"
    }
   ],
   "source": [
    "nltk.download('averaged_perceptron_tagger_eng')"
   ]
  },
  {
   "cell_type": "code",
   "execution_count": 21,
   "id": "408b56d8-6f83-446c-b6b9-04810e83b746",
   "metadata": {
    "tags": []
   },
   "outputs": [],
   "source": [
    "# Feature 8: Parts of Speech (POS) Tags\n",
    "def pos_counts(text):\n",
    "    words = word_tokenize(text)\n",
    "    pos_tags = nltk.pos_tag(words)\n",
    "    pos_counts = {\"nouns\": 0, \"verbs\": 0, \"adjectives\": 0}\n",
    "    for _, tag in pos_tags:\n",
    "        if tag.startswith('N'):\n",
    "            pos_counts[\"nouns\"] += 1\n",
    "        elif tag.startswith('V'):\n",
    "            pos_counts[\"verbs\"] += 1\n",
    "        elif tag.startswith('J'):\n",
    "            pos_counts[\"adjectives\"] += 1\n",
    "    return pd.Series(pos_counts)\n",
    "\n",
    "df[['nouns_count', 'verbs_count', 'adjectives_count']] = df['review_text'].apply(pos_counts)"
   ]
  },
  {
   "cell_type": "code",
   "execution_count": 22,
   "id": "5730c432-bb2f-42dc-91c9-3d8b6b201a40",
   "metadata": {
    "tags": []
   },
   "outputs": [],
   "source": [
    "# Feature 9: Negations Count\n",
    "negations = [\"not\", \"no\", \"never\", \"none\"]\n",
    "df['negation_count'] = df['review_text'].apply(lambda x: sum([x.lower().count(neg) for neg in negations]))"
   ]
  },
  {
   "cell_type": "code",
   "execution_count": 23,
   "id": "97733c2b-0bf3-4a56-bae4-3b7245efec95",
   "metadata": {
    "tags": []
   },
   "outputs": [],
   "source": [
    "# Feature 10: Pronouns Count\n",
    "pronouns = [\"i\", \"we\", \"you\", \"he\", \"she\", \"they\"]\n",
    "df['pronoun_count'] = df['review_text'].apply(lambda x: sum([x.lower().count(pronoun) for pronoun in pronouns]))"
   ]
  },
  {
   "cell_type": "code",
   "execution_count": 24,
   "id": "4cf48bc4-882c-4ef6-913e-77ab4c57ac5b",
   "metadata": {
    "tags": []
   },
   "outputs": [],
   "source": [
    "# Feature 11: Helpful Votes to Review Length Ratio\n",
    "df['helpful_to_length_ratio'] = df['helpful_votes'] / (df['review_length'] + 1)  # Adding 1 to avoid division by zero"
   ]
  },
  {
   "cell_type": "code",
   "execution_count": 25,
   "id": "5c29d017-89aa-4c28-ad2d-e38d1b031b97",
   "metadata": {
    "tags": []
   },
   "outputs": [
    {
     "data": {
      "text/html": [
       "<div>\n",
       "<style scoped>\n",
       "    .dataframe tbody tr th:only-of-type {\n",
       "        vertical-align: middle;\n",
       "    }\n",
       "\n",
       "    .dataframe tbody tr th {\n",
       "        vertical-align: top;\n",
       "    }\n",
       "\n",
       "    .dataframe thead th {\n",
       "        text-align: right;\n",
       "    }\n",
       "</style>\n",
       "<table border=\"1\" class=\"dataframe\">\n",
       "  <thead>\n",
       "    <tr style=\"text-align: right;\">\n",
       "      <th></th>\n",
       "      <th>rating</th>\n",
       "      <th>review_text</th>\n",
       "      <th>title</th>\n",
       "      <th>helpful_votes</th>\n",
       "      <th>review_length</th>\n",
       "      <th>review_word_count</th>\n",
       "      <th>review_sentiment</th>\n",
       "      <th>review_subjectivity</th>\n",
       "      <th>flesch_kincaid</th>\n",
       "      <th>after</th>\n",
       "      <th>...</th>\n",
       "      <th>keyword_excellent</th>\n",
       "      <th>rating_deviation</th>\n",
       "      <th>title_sentiment</th>\n",
       "      <th>title_length</th>\n",
       "      <th>nouns_count</th>\n",
       "      <th>verbs_count</th>\n",
       "      <th>adjectives_count</th>\n",
       "      <th>negation_count</th>\n",
       "      <th>pronoun_count</th>\n",
       "      <th>helpful_to_length_ratio</th>\n",
       "    </tr>\n",
       "  </thead>\n",
       "  <tbody>\n",
       "    <tr>\n",
       "      <th>0</th>\n",
       "      <td>1</td>\n",
       "      <td>Poor product</td>\n",
       "      <td>Does not power on</td>\n",
       "      <td>0</td>\n",
       "      <td>12</td>\n",
       "      <td>2</td>\n",
       "      <td>-0.400000</td>\n",
       "      <td>0.600000</td>\n",
       "      <td>35.605000</td>\n",
       "      <td>0.000000</td>\n",
       "      <td>...</td>\n",
       "      <td>0</td>\n",
       "      <td>-3.074558</td>\n",
       "      <td>0.00</td>\n",
       "      <td>17</td>\n",
       "      <td>2</td>\n",
       "      <td>0</td>\n",
       "      <td>0</td>\n",
       "      <td>0</td>\n",
       "      <td>0</td>\n",
       "      <td>0.0</td>\n",
       "    </tr>\n",
       "    <tr>\n",
       "      <th>1</th>\n",
       "      <td>1</td>\n",
       "      <td>Received only charging caseEarbuds missing fro...</td>\n",
       "      <td>Missing parts</td>\n",
       "      <td>0</td>\n",
       "      <td>86</td>\n",
       "      <td>10</td>\n",
       "      <td>-0.100000</td>\n",
       "      <td>0.525000</td>\n",
       "      <td>-23.275000</td>\n",
       "      <td>0.000000</td>\n",
       "      <td>...</td>\n",
       "      <td>0</td>\n",
       "      <td>-3.074558</td>\n",
       "      <td>-0.20</td>\n",
       "      <td>13</td>\n",
       "      <td>2</td>\n",
       "      <td>4</td>\n",
       "      <td>0</td>\n",
       "      <td>0</td>\n",
       "      <td>10</td>\n",
       "      <td>0.0</td>\n",
       "    </tr>\n",
       "    <tr>\n",
       "      <th>2</th>\n",
       "      <td>1</td>\n",
       "      <td>Very bed product after 3 month left side earbu...</td>\n",
       "      <td>pt.arvinddabral@gmail.com</td>\n",
       "      <td>0</td>\n",
       "      <td>124</td>\n",
       "      <td>22</td>\n",
       "      <td>0.066667</td>\n",
       "      <td>0.266667</td>\n",
       "      <td>53.759545</td>\n",
       "      <td>0.695273</td>\n",
       "      <td>...</td>\n",
       "      <td>0</td>\n",
       "      <td>-3.074558</td>\n",
       "      <td>0.00</td>\n",
       "      <td>25</td>\n",
       "      <td>5</td>\n",
       "      <td>4</td>\n",
       "      <td>2</td>\n",
       "      <td>2</td>\n",
       "      <td>6</td>\n",
       "      <td>0.0</td>\n",
       "    </tr>\n",
       "    <tr>\n",
       "      <th>3</th>\n",
       "      <td>1</td>\n",
       "      <td>sound is decent but battery dies pretty quick ...</td>\n",
       "      <td>NOT GOOD AT ALL</td>\n",
       "      <td>0</td>\n",
       "      <td>92</td>\n",
       "      <td>15</td>\n",
       "      <td>0.287500</td>\n",
       "      <td>0.641667</td>\n",
       "      <td>44.970000</td>\n",
       "      <td>0.000000</td>\n",
       "      <td>...</td>\n",
       "      <td>0</td>\n",
       "      <td>-3.074558</td>\n",
       "      <td>-0.35</td>\n",
       "      <td>15</td>\n",
       "      <td>4</td>\n",
       "      <td>4</td>\n",
       "      <td>2</td>\n",
       "      <td>0</td>\n",
       "      <td>6</td>\n",
       "      <td>0.0</td>\n",
       "    </tr>\n",
       "    <tr>\n",
       "      <th>4</th>\n",
       "      <td>1</td>\n",
       "      <td>I regret buying these earbuds. Even boat and r...</td>\n",
       "      <td>Very cheap earbuds from JBL</td>\n",
       "      <td>0</td>\n",
       "      <td>204</td>\n",
       "      <td>42</td>\n",
       "      <td>0.016667</td>\n",
       "      <td>0.398333</td>\n",
       "      <td>69.277500</td>\n",
       "      <td>0.000000</td>\n",
       "      <td>...</td>\n",
       "      <td>0</td>\n",
       "      <td>-3.074558</td>\n",
       "      <td>0.52</td>\n",
       "      <td>27</td>\n",
       "      <td>13</td>\n",
       "      <td>8</td>\n",
       "      <td>6</td>\n",
       "      <td>0</td>\n",
       "      <td>13</td>\n",
       "      <td>0.0</td>\n",
       "    </tr>\n",
       "  </tbody>\n",
       "</table>\n",
       "<p>5 rows × 123 columns</p>\n",
       "</div>"
      ],
      "text/plain": [
       "   rating                                        review_text  \\\n",
       "0       1                                       Poor product   \n",
       "1       1  Received only charging caseEarbuds missing fro...   \n",
       "2       1  Very bed product after 3 month left side earbu...   \n",
       "3       1  sound is decent but battery dies pretty quick ...   \n",
       "4       1  I regret buying these earbuds. Even boat and r...   \n",
       "\n",
       "                         title  helpful_votes  review_length  \\\n",
       "0            Does not power on              0             12   \n",
       "1                Missing parts              0             86   \n",
       "2    pt.arvinddabral@gmail.com              0            124   \n",
       "3              NOT GOOD AT ALL              0             92   \n",
       "4  Very cheap earbuds from JBL              0            204   \n",
       "\n",
       "   review_word_count  review_sentiment  review_subjectivity  flesch_kincaid  \\\n",
       "0                  2         -0.400000             0.600000       35.605000   \n",
       "1                 10         -0.100000             0.525000      -23.275000   \n",
       "2                 22          0.066667             0.266667       53.759545   \n",
       "3                 15          0.287500             0.641667       44.970000   \n",
       "4                 42          0.016667             0.398333       69.277500   \n",
       "\n",
       "      after  ...  keyword_excellent  rating_deviation  title_sentiment  \\\n",
       "0  0.000000  ...                  0         -3.074558             0.00   \n",
       "1  0.000000  ...                  0         -3.074558            -0.20   \n",
       "2  0.695273  ...                  0         -3.074558             0.00   \n",
       "3  0.000000  ...                  0         -3.074558            -0.35   \n",
       "4  0.000000  ...                  0         -3.074558             0.52   \n",
       "\n",
       "   title_length  nouns_count  verbs_count  adjectives_count  negation_count  \\\n",
       "0            17            2            0                 0               0   \n",
       "1            13            2            4                 0               0   \n",
       "2            25            5            4                 2               2   \n",
       "3            15            4            4                 2               0   \n",
       "4            27           13            8                 6               0   \n",
       "\n",
       "   pronoun_count  helpful_to_length_ratio  \n",
       "0              0                      0.0  \n",
       "1             10                      0.0  \n",
       "2              6                      0.0  \n",
       "3              6                      0.0  \n",
       "4             13                      0.0  \n",
       "\n",
       "[5 rows x 123 columns]"
      ]
     },
     "execution_count": 25,
     "metadata": {},
     "output_type": "execute_result"
    }
   ],
   "source": [
    "# Review the extracted features\n",
    "df.head()"
   ]
  },
  {
   "cell_type": "code",
   "execution_count": 26,
   "id": "0d13fe60-0ec6-4995-a154-e901b8ab7e24",
   "metadata": {
    "tags": []
   },
   "outputs": [],
   "source": [
    "df.drop(columns=['review_text', 'title'], inplace=True)"
   ]
  },
  {
   "cell_type": "code",
   "execution_count": 27,
   "id": "f3df4ed7-fa28-4580-a17a-79ccde13d308",
   "metadata": {
    "tags": []
   },
   "outputs": [],
   "source": [
    "import numpy as np\n",
    "from sklearn.model_selection import train_test_split\n",
    "from sklearn.ensemble import RandomForestClassifier\n",
    "from sklearn.metrics import classification_report, accuracy_score\n",
    "from sklearn.preprocessing import LabelEncoder, StandardScaler\n",
    "from sklearn.feature_extraction.text import TfidfVectorizer\n",
    "from sklearn.compose import ColumnTransformer\n",
    "from sklearn.pipeline import Pipeline\n",
    "from sklearn.impute import SimpleImputer"
   ]
  },
  {
   "cell_type": "code",
   "execution_count": 28,
   "id": "4e1013ec-1675-475a-83a5-79380121db62",
   "metadata": {
    "tags": []
   },
   "outputs": [
    {
     "name": "stderr",
     "output_type": "stream",
     "text": [
      "/var/tmp/ipykernel_26273/1440291367.py:7: FutureWarning: A value is trying to be set on a copy of a DataFrame or Series through chained assignment using an inplace method.\n",
      "The behavior will change in pandas 3.0. This inplace method will never work because the intermediate object on which we are setting values always behaves as a copy.\n",
      "\n",
      "For example, when doing 'df[col].method(value, inplace=True)', try using 'df.method({col: value}, inplace=True)' or df[col] = df[col].method(value) instead, to perform the operation inplace on the original object.\n",
      "\n",
      "\n",
      "  df['helpfulness_class'].fillna(\"low\", inplace=True)\n"
     ]
    }
   ],
   "source": [
    "# Define bins and labels for helpfulness\n",
    "bins = [0, 1, 5, float(\"inf\")]\n",
    "labels = [\"low\", \"medium\", \"high\"]\n",
    "df['helpfulness_class'] = pd.cut(df['helpful_votes'], bins=bins, labels=labels)\n",
    "\n",
    "# Fill any NaNs that might have been introduced in case of missing values in 'helpful_votes'\n",
    "df['helpfulness_class'].fillna(\"low\", inplace=True)\n",
    "\n",
    "# Encode the categorical labels to numeric values\n",
    "label_encoder = LabelEncoder()\n",
    "df['helpfulness_class_encoded'] = label_encoder.fit_transform(df['helpfulness_class'])"
   ]
  },
  {
   "cell_type": "code",
   "execution_count": 29,
   "id": "ad86c9d0-0bd2-40e7-8695-150679fe446e",
   "metadata": {
    "tags": []
   },
   "outputs": [],
   "source": [
    "# Define features and label\n",
    "X = df.drop(columns=['helpful_votes', 'helpfulness_class', 'helpfulness_class_encoded'])\n",
    "y = df['helpfulness_class_encoded']\n",
    "\n",
    "# Identify column types\n",
    "numerical_cols = X.select_dtypes(include=['float64', 'int64']).columns.tolist()\n",
    "text_cols = ['review_text', 'title']  # Text columns to vectorize\n",
    "\n",
    "# Preprocessing for numerical data: Simple scaling\n",
    "numerical_transformer = Pipeline(steps=[\n",
    "    ('imputer', SimpleImputer(strategy='median')),\n",
    "    ('scaler', StandardScaler())\n",
    "])\n",
    "\n",
    "# Preprocessing for text data: TF-IDF Vectorization\n",
    "text_transformer = Pipeline(steps=[\n",
    "    ('tfidf', TfidfVectorizer(max_features=100))  # Adjust max_features based on memory/performance\n",
    "])\n",
    "\n",
    "# Combine preprocessor with column transformer\n",
    "preprocessor = ColumnTransformer(\n",
    "    transformers=[\n",
    "        ('num', numerical_transformer, numerical_cols),\n",
    "    ],\n",
    ")"
   ]
  },
  {
   "cell_type": "code",
   "execution_count": 30,
   "id": "dbf6b213-67d3-44a9-8abe-48770ea46551",
   "metadata": {
    "tags": []
   },
   "outputs": [],
   "source": [
    "# Split the dataset into training and testing sets\n",
    "X_train, X_test, y_train, y_test = train_test_split(X, y, test_size=0.2, random_state=42)"
   ]
  },
  {
   "cell_type": "code",
   "execution_count": 31,
   "id": "09a06825-0f4a-4d2f-81a2-cff5cb2d8113",
   "metadata": {
    "tags": []
   },
   "outputs": [],
   "source": [
    "# Create the model pipeline\n",
    "model = Pipeline(steps=[\n",
    "    ('preprocessor', preprocessor),\n",
    "    ('classifier', RandomForestClassifier(random_state=42))\n",
    "])"
   ]
  },
  {
   "cell_type": "code",
   "execution_count": 32,
   "id": "fe4cc3b5-1d60-406a-bddf-956077460af0",
   "metadata": {
    "tags": []
   },
   "outputs": [
    {
     "data": {
      "text/html": [
       "<style>#sk-container-id-1 {\n",
       "  /* Definition of color scheme common for light and dark mode */\n",
       "  --sklearn-color-text: black;\n",
       "  --sklearn-color-line: gray;\n",
       "  /* Definition of color scheme for unfitted estimators */\n",
       "  --sklearn-color-unfitted-level-0: #fff5e6;\n",
       "  --sklearn-color-unfitted-level-1: #f6e4d2;\n",
       "  --sklearn-color-unfitted-level-2: #ffe0b3;\n",
       "  --sklearn-color-unfitted-level-3: chocolate;\n",
       "  /* Definition of color scheme for fitted estimators */\n",
       "  --sklearn-color-fitted-level-0: #f0f8ff;\n",
       "  --sklearn-color-fitted-level-1: #d4ebff;\n",
       "  --sklearn-color-fitted-level-2: #b3dbfd;\n",
       "  --sklearn-color-fitted-level-3: cornflowerblue;\n",
       "\n",
       "  /* Specific color for light theme */\n",
       "  --sklearn-color-text-on-default-background: var(--sg-text-color, var(--theme-code-foreground, var(--jp-content-font-color1, black)));\n",
       "  --sklearn-color-background: var(--sg-background-color, var(--theme-background, var(--jp-layout-color0, white)));\n",
       "  --sklearn-color-border-box: var(--sg-text-color, var(--theme-code-foreground, var(--jp-content-font-color1, black)));\n",
       "  --sklearn-color-icon: #696969;\n",
       "\n",
       "  @media (prefers-color-scheme: dark) {\n",
       "    /* Redefinition of color scheme for dark theme */\n",
       "    --sklearn-color-text-on-default-background: var(--sg-text-color, var(--theme-code-foreground, var(--jp-content-font-color1, white)));\n",
       "    --sklearn-color-background: var(--sg-background-color, var(--theme-background, var(--jp-layout-color0, #111)));\n",
       "    --sklearn-color-border-box: var(--sg-text-color, var(--theme-code-foreground, var(--jp-content-font-color1, white)));\n",
       "    --sklearn-color-icon: #878787;\n",
       "  }\n",
       "}\n",
       "\n",
       "#sk-container-id-1 {\n",
       "  color: var(--sklearn-color-text);\n",
       "}\n",
       "\n",
       "#sk-container-id-1 pre {\n",
       "  padding: 0;\n",
       "}\n",
       "\n",
       "#sk-container-id-1 input.sk-hidden--visually {\n",
       "  border: 0;\n",
       "  clip: rect(1px 1px 1px 1px);\n",
       "  clip: rect(1px, 1px, 1px, 1px);\n",
       "  height: 1px;\n",
       "  margin: -1px;\n",
       "  overflow: hidden;\n",
       "  padding: 0;\n",
       "  position: absolute;\n",
       "  width: 1px;\n",
       "}\n",
       "\n",
       "#sk-container-id-1 div.sk-dashed-wrapped {\n",
       "  border: 1px dashed var(--sklearn-color-line);\n",
       "  margin: 0 0.4em 0.5em 0.4em;\n",
       "  box-sizing: border-box;\n",
       "  padding-bottom: 0.4em;\n",
       "  background-color: var(--sklearn-color-background);\n",
       "}\n",
       "\n",
       "#sk-container-id-1 div.sk-container {\n",
       "  /* jupyter's `normalize.less` sets `[hidden] { display: none; }`\n",
       "     but bootstrap.min.css set `[hidden] { display: none !important; }`\n",
       "     so we also need the `!important` here to be able to override the\n",
       "     default hidden behavior on the sphinx rendered scikit-learn.org.\n",
       "     See: https://github.com/scikit-learn/scikit-learn/issues/21755 */\n",
       "  display: inline-block !important;\n",
       "  position: relative;\n",
       "}\n",
       "\n",
       "#sk-container-id-1 div.sk-text-repr-fallback {\n",
       "  display: none;\n",
       "}\n",
       "\n",
       "div.sk-parallel-item,\n",
       "div.sk-serial,\n",
       "div.sk-item {\n",
       "  /* draw centered vertical line to link estimators */\n",
       "  background-image: linear-gradient(var(--sklearn-color-text-on-default-background), var(--sklearn-color-text-on-default-background));\n",
       "  background-size: 2px 100%;\n",
       "  background-repeat: no-repeat;\n",
       "  background-position: center center;\n",
       "}\n",
       "\n",
       "/* Parallel-specific style estimator block */\n",
       "\n",
       "#sk-container-id-1 div.sk-parallel-item::after {\n",
       "  content: \"\";\n",
       "  width: 100%;\n",
       "  border-bottom: 2px solid var(--sklearn-color-text-on-default-background);\n",
       "  flex-grow: 1;\n",
       "}\n",
       "\n",
       "#sk-container-id-1 div.sk-parallel {\n",
       "  display: flex;\n",
       "  align-items: stretch;\n",
       "  justify-content: center;\n",
       "  background-color: var(--sklearn-color-background);\n",
       "  position: relative;\n",
       "}\n",
       "\n",
       "#sk-container-id-1 div.sk-parallel-item {\n",
       "  display: flex;\n",
       "  flex-direction: column;\n",
       "}\n",
       "\n",
       "#sk-container-id-1 div.sk-parallel-item:first-child::after {\n",
       "  align-self: flex-end;\n",
       "  width: 50%;\n",
       "}\n",
       "\n",
       "#sk-container-id-1 div.sk-parallel-item:last-child::after {\n",
       "  align-self: flex-start;\n",
       "  width: 50%;\n",
       "}\n",
       "\n",
       "#sk-container-id-1 div.sk-parallel-item:only-child::after {\n",
       "  width: 0;\n",
       "}\n",
       "\n",
       "/* Serial-specific style estimator block */\n",
       "\n",
       "#sk-container-id-1 div.sk-serial {\n",
       "  display: flex;\n",
       "  flex-direction: column;\n",
       "  align-items: center;\n",
       "  background-color: var(--sklearn-color-background);\n",
       "  padding-right: 1em;\n",
       "  padding-left: 1em;\n",
       "}\n",
       "\n",
       "\n",
       "/* Toggleable style: style used for estimator/Pipeline/ColumnTransformer box that is\n",
       "clickable and can be expanded/collapsed.\n",
       "- Pipeline and ColumnTransformer use this feature and define the default style\n",
       "- Estimators will overwrite some part of the style using the `sk-estimator` class\n",
       "*/\n",
       "\n",
       "/* Pipeline and ColumnTransformer style (default) */\n",
       "\n",
       "#sk-container-id-1 div.sk-toggleable {\n",
       "  /* Default theme specific background. It is overwritten whether we have a\n",
       "  specific estimator or a Pipeline/ColumnTransformer */\n",
       "  background-color: var(--sklearn-color-background);\n",
       "}\n",
       "\n",
       "/* Toggleable label */\n",
       "#sk-container-id-1 label.sk-toggleable__label {\n",
       "  cursor: pointer;\n",
       "  display: block;\n",
       "  width: 100%;\n",
       "  margin-bottom: 0;\n",
       "  padding: 0.5em;\n",
       "  box-sizing: border-box;\n",
       "  text-align: center;\n",
       "}\n",
       "\n",
       "#sk-container-id-1 label.sk-toggleable__label-arrow:before {\n",
       "  /* Arrow on the left of the label */\n",
       "  content: \"▸\";\n",
       "  float: left;\n",
       "  margin-right: 0.25em;\n",
       "  color: var(--sklearn-color-icon);\n",
       "}\n",
       "\n",
       "#sk-container-id-1 label.sk-toggleable__label-arrow:hover:before {\n",
       "  color: var(--sklearn-color-text);\n",
       "}\n",
       "\n",
       "/* Toggleable content - dropdown */\n",
       "\n",
       "#sk-container-id-1 div.sk-toggleable__content {\n",
       "  max-height: 0;\n",
       "  max-width: 0;\n",
       "  overflow: hidden;\n",
       "  text-align: left;\n",
       "  /* unfitted */\n",
       "  background-color: var(--sklearn-color-unfitted-level-0);\n",
       "}\n",
       "\n",
       "#sk-container-id-1 div.sk-toggleable__content.fitted {\n",
       "  /* fitted */\n",
       "  background-color: var(--sklearn-color-fitted-level-0);\n",
       "}\n",
       "\n",
       "#sk-container-id-1 div.sk-toggleable__content pre {\n",
       "  margin: 0.2em;\n",
       "  border-radius: 0.25em;\n",
       "  color: var(--sklearn-color-text);\n",
       "  /* unfitted */\n",
       "  background-color: var(--sklearn-color-unfitted-level-0);\n",
       "}\n",
       "\n",
       "#sk-container-id-1 div.sk-toggleable__content.fitted pre {\n",
       "  /* unfitted */\n",
       "  background-color: var(--sklearn-color-fitted-level-0);\n",
       "}\n",
       "\n",
       "#sk-container-id-1 input.sk-toggleable__control:checked~div.sk-toggleable__content {\n",
       "  /* Expand drop-down */\n",
       "  max-height: 200px;\n",
       "  max-width: 100%;\n",
       "  overflow: auto;\n",
       "}\n",
       "\n",
       "#sk-container-id-1 input.sk-toggleable__control:checked~label.sk-toggleable__label-arrow:before {\n",
       "  content: \"▾\";\n",
       "}\n",
       "\n",
       "/* Pipeline/ColumnTransformer-specific style */\n",
       "\n",
       "#sk-container-id-1 div.sk-label input.sk-toggleable__control:checked~label.sk-toggleable__label {\n",
       "  color: var(--sklearn-color-text);\n",
       "  background-color: var(--sklearn-color-unfitted-level-2);\n",
       "}\n",
       "\n",
       "#sk-container-id-1 div.sk-label.fitted input.sk-toggleable__control:checked~label.sk-toggleable__label {\n",
       "  background-color: var(--sklearn-color-fitted-level-2);\n",
       "}\n",
       "\n",
       "/* Estimator-specific style */\n",
       "\n",
       "/* Colorize estimator box */\n",
       "#sk-container-id-1 div.sk-estimator input.sk-toggleable__control:checked~label.sk-toggleable__label {\n",
       "  /* unfitted */\n",
       "  background-color: var(--sklearn-color-unfitted-level-2);\n",
       "}\n",
       "\n",
       "#sk-container-id-1 div.sk-estimator.fitted input.sk-toggleable__control:checked~label.sk-toggleable__label {\n",
       "  /* fitted */\n",
       "  background-color: var(--sklearn-color-fitted-level-2);\n",
       "}\n",
       "\n",
       "#sk-container-id-1 div.sk-label label.sk-toggleable__label,\n",
       "#sk-container-id-1 div.sk-label label {\n",
       "  /* The background is the default theme color */\n",
       "  color: var(--sklearn-color-text-on-default-background);\n",
       "}\n",
       "\n",
       "/* On hover, darken the color of the background */\n",
       "#sk-container-id-1 div.sk-label:hover label.sk-toggleable__label {\n",
       "  color: var(--sklearn-color-text);\n",
       "  background-color: var(--sklearn-color-unfitted-level-2);\n",
       "}\n",
       "\n",
       "/* Label box, darken color on hover, fitted */\n",
       "#sk-container-id-1 div.sk-label.fitted:hover label.sk-toggleable__label.fitted {\n",
       "  color: var(--sklearn-color-text);\n",
       "  background-color: var(--sklearn-color-fitted-level-2);\n",
       "}\n",
       "\n",
       "/* Estimator label */\n",
       "\n",
       "#sk-container-id-1 div.sk-label label {\n",
       "  font-family: monospace;\n",
       "  font-weight: bold;\n",
       "  display: inline-block;\n",
       "  line-height: 1.2em;\n",
       "}\n",
       "\n",
       "#sk-container-id-1 div.sk-label-container {\n",
       "  text-align: center;\n",
       "}\n",
       "\n",
       "/* Estimator-specific */\n",
       "#sk-container-id-1 div.sk-estimator {\n",
       "  font-family: monospace;\n",
       "  border: 1px dotted var(--sklearn-color-border-box);\n",
       "  border-radius: 0.25em;\n",
       "  box-sizing: border-box;\n",
       "  margin-bottom: 0.5em;\n",
       "  /* unfitted */\n",
       "  background-color: var(--sklearn-color-unfitted-level-0);\n",
       "}\n",
       "\n",
       "#sk-container-id-1 div.sk-estimator.fitted {\n",
       "  /* fitted */\n",
       "  background-color: var(--sklearn-color-fitted-level-0);\n",
       "}\n",
       "\n",
       "/* on hover */\n",
       "#sk-container-id-1 div.sk-estimator:hover {\n",
       "  /* unfitted */\n",
       "  background-color: var(--sklearn-color-unfitted-level-2);\n",
       "}\n",
       "\n",
       "#sk-container-id-1 div.sk-estimator.fitted:hover {\n",
       "  /* fitted */\n",
       "  background-color: var(--sklearn-color-fitted-level-2);\n",
       "}\n",
       "\n",
       "/* Specification for estimator info (e.g. \"i\" and \"?\") */\n",
       "\n",
       "/* Common style for \"i\" and \"?\" */\n",
       "\n",
       ".sk-estimator-doc-link,\n",
       "a:link.sk-estimator-doc-link,\n",
       "a:visited.sk-estimator-doc-link {\n",
       "  float: right;\n",
       "  font-size: smaller;\n",
       "  line-height: 1em;\n",
       "  font-family: monospace;\n",
       "  background-color: var(--sklearn-color-background);\n",
       "  border-radius: 1em;\n",
       "  height: 1em;\n",
       "  width: 1em;\n",
       "  text-decoration: none !important;\n",
       "  margin-left: 1ex;\n",
       "  /* unfitted */\n",
       "  border: var(--sklearn-color-unfitted-level-1) 1pt solid;\n",
       "  color: var(--sklearn-color-unfitted-level-1);\n",
       "}\n",
       "\n",
       ".sk-estimator-doc-link.fitted,\n",
       "a:link.sk-estimator-doc-link.fitted,\n",
       "a:visited.sk-estimator-doc-link.fitted {\n",
       "  /* fitted */\n",
       "  border: var(--sklearn-color-fitted-level-1) 1pt solid;\n",
       "  color: var(--sklearn-color-fitted-level-1);\n",
       "}\n",
       "\n",
       "/* On hover */\n",
       "div.sk-estimator:hover .sk-estimator-doc-link:hover,\n",
       ".sk-estimator-doc-link:hover,\n",
       "div.sk-label-container:hover .sk-estimator-doc-link:hover,\n",
       ".sk-estimator-doc-link:hover {\n",
       "  /* unfitted */\n",
       "  background-color: var(--sklearn-color-unfitted-level-3);\n",
       "  color: var(--sklearn-color-background);\n",
       "  text-decoration: none;\n",
       "}\n",
       "\n",
       "div.sk-estimator.fitted:hover .sk-estimator-doc-link.fitted:hover,\n",
       ".sk-estimator-doc-link.fitted:hover,\n",
       "div.sk-label-container:hover .sk-estimator-doc-link.fitted:hover,\n",
       ".sk-estimator-doc-link.fitted:hover {\n",
       "  /* fitted */\n",
       "  background-color: var(--sklearn-color-fitted-level-3);\n",
       "  color: var(--sklearn-color-background);\n",
       "  text-decoration: none;\n",
       "}\n",
       "\n",
       "/* Span, style for the box shown on hovering the info icon */\n",
       ".sk-estimator-doc-link span {\n",
       "  display: none;\n",
       "  z-index: 9999;\n",
       "  position: relative;\n",
       "  font-weight: normal;\n",
       "  right: .2ex;\n",
       "  padding: .5ex;\n",
       "  margin: .5ex;\n",
       "  width: min-content;\n",
       "  min-width: 20ex;\n",
       "  max-width: 50ex;\n",
       "  color: var(--sklearn-color-text);\n",
       "  box-shadow: 2pt 2pt 4pt #999;\n",
       "  /* unfitted */\n",
       "  background: var(--sklearn-color-unfitted-level-0);\n",
       "  border: .5pt solid var(--sklearn-color-unfitted-level-3);\n",
       "}\n",
       "\n",
       ".sk-estimator-doc-link.fitted span {\n",
       "  /* fitted */\n",
       "  background: var(--sklearn-color-fitted-level-0);\n",
       "  border: var(--sklearn-color-fitted-level-3);\n",
       "}\n",
       "\n",
       ".sk-estimator-doc-link:hover span {\n",
       "  display: block;\n",
       "}\n",
       "\n",
       "/* \"?\"-specific style due to the `<a>` HTML tag */\n",
       "\n",
       "#sk-container-id-1 a.estimator_doc_link {\n",
       "  float: right;\n",
       "  font-size: 1rem;\n",
       "  line-height: 1em;\n",
       "  font-family: monospace;\n",
       "  background-color: var(--sklearn-color-background);\n",
       "  border-radius: 1rem;\n",
       "  height: 1rem;\n",
       "  width: 1rem;\n",
       "  text-decoration: none;\n",
       "  /* unfitted */\n",
       "  color: var(--sklearn-color-unfitted-level-1);\n",
       "  border: var(--sklearn-color-unfitted-level-1) 1pt solid;\n",
       "}\n",
       "\n",
       "#sk-container-id-1 a.estimator_doc_link.fitted {\n",
       "  /* fitted */\n",
       "  border: var(--sklearn-color-fitted-level-1) 1pt solid;\n",
       "  color: var(--sklearn-color-fitted-level-1);\n",
       "}\n",
       "\n",
       "/* On hover */\n",
       "#sk-container-id-1 a.estimator_doc_link:hover {\n",
       "  /* unfitted */\n",
       "  background-color: var(--sklearn-color-unfitted-level-3);\n",
       "  color: var(--sklearn-color-background);\n",
       "  text-decoration: none;\n",
       "}\n",
       "\n",
       "#sk-container-id-1 a.estimator_doc_link.fitted:hover {\n",
       "  /* fitted */\n",
       "  background-color: var(--sklearn-color-fitted-level-3);\n",
       "}\n",
       "</style><div id=\"sk-container-id-1\" class=\"sk-top-container\"><div class=\"sk-text-repr-fallback\"><pre>Pipeline(steps=[(&#x27;preprocessor&#x27;,\n",
       "                 ColumnTransformer(transformers=[(&#x27;num&#x27;,\n",
       "                                                  Pipeline(steps=[(&#x27;imputer&#x27;,\n",
       "                                                                   SimpleImputer(strategy=&#x27;median&#x27;)),\n",
       "                                                                  (&#x27;scaler&#x27;,\n",
       "                                                                   StandardScaler())]),\n",
       "                                                  [&#x27;rating&#x27;, &#x27;review_length&#x27;,\n",
       "                                                   &#x27;review_word_count&#x27;,\n",
       "                                                   &#x27;review_sentiment&#x27;,\n",
       "                                                   &#x27;review_subjectivity&#x27;,\n",
       "                                                   &#x27;flesch_kincaid&#x27;, &#x27;after&#x27;,\n",
       "                                                   &#x27;all&#x27;, &#x27;also&#x27;, &#x27;an&#x27;, &#x27;anc&#x27;,\n",
       "                                                   &#x27;and&#x27;, &#x27;app&#x27;, &#x27;are&#x27;, &#x27;as&#x27;,\n",
       "                                                   &#x27;at&#x27;, &#x27;audio&#x27;, &#x27;bass&#x27;,\n",
       "                                                   &#x27;battery&#x27;, &#x27;be&#x27;, &#x27;best&#x27;,\n",
       "                                                   &#x27;better&#x27;, &#x27;buds&#x27;, &#x27;but&#x27;,\n",
       "                                                   &#x27;buy&#x27;, &#x27;call&#x27;, &#x27;calls&#x27;,\n",
       "                                                   &#x27;can&#x27;, &#x27;cancellation&#x27;,\n",
       "                                                   &#x27;case&#x27;, ...])])),\n",
       "                (&#x27;classifier&#x27;, RandomForestClassifier(random_state=42))])</pre><b>In a Jupyter environment, please rerun this cell to show the HTML representation or trust the notebook. <br />On GitHub, the HTML representation is unable to render, please try loading this page with nbviewer.org.</b></div><div class=\"sk-container\" hidden><div class=\"sk-item sk-dashed-wrapped\"><div class=\"sk-label-container\"><div class=\"sk-label fitted sk-toggleable\"><input class=\"sk-toggleable__control sk-hidden--visually\" id=\"sk-estimator-id-1\" type=\"checkbox\" ><label for=\"sk-estimator-id-1\" class=\"sk-toggleable__label fitted sk-toggleable__label-arrow fitted\">&nbsp;&nbsp;Pipeline<a class=\"sk-estimator-doc-link fitted\" rel=\"noreferrer\" target=\"_blank\" href=\"https://scikit-learn.org/1.5/modules/generated/sklearn.pipeline.Pipeline.html\">?<span>Documentation for Pipeline</span></a><span class=\"sk-estimator-doc-link fitted\">i<span>Fitted</span></span></label><div class=\"sk-toggleable__content fitted\"><pre>Pipeline(steps=[(&#x27;preprocessor&#x27;,\n",
       "                 ColumnTransformer(transformers=[(&#x27;num&#x27;,\n",
       "                                                  Pipeline(steps=[(&#x27;imputer&#x27;,\n",
       "                                                                   SimpleImputer(strategy=&#x27;median&#x27;)),\n",
       "                                                                  (&#x27;scaler&#x27;,\n",
       "                                                                   StandardScaler())]),\n",
       "                                                  [&#x27;rating&#x27;, &#x27;review_length&#x27;,\n",
       "                                                   &#x27;review_word_count&#x27;,\n",
       "                                                   &#x27;review_sentiment&#x27;,\n",
       "                                                   &#x27;review_subjectivity&#x27;,\n",
       "                                                   &#x27;flesch_kincaid&#x27;, &#x27;after&#x27;,\n",
       "                                                   &#x27;all&#x27;, &#x27;also&#x27;, &#x27;an&#x27;, &#x27;anc&#x27;,\n",
       "                                                   &#x27;and&#x27;, &#x27;app&#x27;, &#x27;are&#x27;, &#x27;as&#x27;,\n",
       "                                                   &#x27;at&#x27;, &#x27;audio&#x27;, &#x27;bass&#x27;,\n",
       "                                                   &#x27;battery&#x27;, &#x27;be&#x27;, &#x27;best&#x27;,\n",
       "                                                   &#x27;better&#x27;, &#x27;buds&#x27;, &#x27;but&#x27;,\n",
       "                                                   &#x27;buy&#x27;, &#x27;call&#x27;, &#x27;calls&#x27;,\n",
       "                                                   &#x27;can&#x27;, &#x27;cancellation&#x27;,\n",
       "                                                   &#x27;case&#x27;, ...])])),\n",
       "                (&#x27;classifier&#x27;, RandomForestClassifier(random_state=42))])</pre></div> </div></div><div class=\"sk-serial\"><div class=\"sk-item sk-dashed-wrapped\"><div class=\"sk-label-container\"><div class=\"sk-label fitted sk-toggleable\"><input class=\"sk-toggleable__control sk-hidden--visually\" id=\"sk-estimator-id-2\" type=\"checkbox\" ><label for=\"sk-estimator-id-2\" class=\"sk-toggleable__label fitted sk-toggleable__label-arrow fitted\">&nbsp;preprocessor: ColumnTransformer<a class=\"sk-estimator-doc-link fitted\" rel=\"noreferrer\" target=\"_blank\" href=\"https://scikit-learn.org/1.5/modules/generated/sklearn.compose.ColumnTransformer.html\">?<span>Documentation for preprocessor: ColumnTransformer</span></a></label><div class=\"sk-toggleable__content fitted\"><pre>ColumnTransformer(transformers=[(&#x27;num&#x27;,\n",
       "                                 Pipeline(steps=[(&#x27;imputer&#x27;,\n",
       "                                                  SimpleImputer(strategy=&#x27;median&#x27;)),\n",
       "                                                 (&#x27;scaler&#x27;, StandardScaler())]),\n",
       "                                 [&#x27;rating&#x27;, &#x27;review_length&#x27;,\n",
       "                                  &#x27;review_word_count&#x27;, &#x27;review_sentiment&#x27;,\n",
       "                                  &#x27;review_subjectivity&#x27;, &#x27;flesch_kincaid&#x27;,\n",
       "                                  &#x27;after&#x27;, &#x27;all&#x27;, &#x27;also&#x27;, &#x27;an&#x27;, &#x27;anc&#x27;, &#x27;and&#x27;,\n",
       "                                  &#x27;app&#x27;, &#x27;are&#x27;, &#x27;as&#x27;, &#x27;at&#x27;, &#x27;audio&#x27;, &#x27;bass&#x27;,\n",
       "                                  &#x27;battery&#x27;, &#x27;be&#x27;, &#x27;best&#x27;, &#x27;better&#x27;, &#x27;buds&#x27;,\n",
       "                                  &#x27;but&#x27;, &#x27;buy&#x27;, &#x27;call&#x27;, &#x27;calls&#x27;, &#x27;can&#x27;,\n",
       "                                  &#x27;cancellation&#x27;, &#x27;case&#x27;, ...])])</pre></div> </div></div><div class=\"sk-parallel\"><div class=\"sk-parallel-item\"><div class=\"sk-item\"><div class=\"sk-label-container\"><div class=\"sk-label fitted sk-toggleable\"><input class=\"sk-toggleable__control sk-hidden--visually\" id=\"sk-estimator-id-3\" type=\"checkbox\" ><label for=\"sk-estimator-id-3\" class=\"sk-toggleable__label fitted sk-toggleable__label-arrow fitted\">num</label><div class=\"sk-toggleable__content fitted\"><pre>[&#x27;rating&#x27;, &#x27;review_length&#x27;, &#x27;review_word_count&#x27;, &#x27;review_sentiment&#x27;, &#x27;review_subjectivity&#x27;, &#x27;flesch_kincaid&#x27;, &#x27;after&#x27;, &#x27;all&#x27;, &#x27;also&#x27;, &#x27;an&#x27;, &#x27;anc&#x27;, &#x27;and&#x27;, &#x27;app&#x27;, &#x27;are&#x27;, &#x27;as&#x27;, &#x27;at&#x27;, &#x27;audio&#x27;, &#x27;bass&#x27;, &#x27;battery&#x27;, &#x27;be&#x27;, &#x27;best&#x27;, &#x27;better&#x27;, &#x27;buds&#x27;, &#x27;but&#x27;, &#x27;buy&#x27;, &#x27;call&#x27;, &#x27;calls&#x27;, &#x27;can&#x27;, &#x27;cancellation&#x27;, &#x27;case&#x27;, &#x27;charging&#x27;, &#x27;clear&#x27;, &#x27;comfortable&#x27;, &#x27;connectivity&#x27;, &#x27;could&#x27;, &#x27;design&#x27;, &#x27;ear&#x27;, &#x27;earbuds&#x27;, &#x27;even&#x27;, &#x27;experience&#x27;, &#x27;features&#x27;, &#x27;fit&#x27;, &#x27;for&#x27;, &#x27;from&#x27;, &#x27;good&#x27;, &#x27;great&#x27;, &#x27;has&#x27;, &#x27;have&#x27;, &#x27;hours&#x27;, &#x27;if&#x27;, &#x27;in&#x27;, &#x27;is&#x27;, &#x27;it&#x27;, &#x27;its&#x27;, &#x27;just&#x27;, &#x27;life&#x27;, &#x27;like&#x27;, &#x27;me&#x27;, &#x27;money&#x27;, &#x27;more&#x27;, &#x27;music&#x27;, &#x27;my&#x27;, &#x27;nice&#x27;, &#x27;no&#x27;, &#x27;noise&#x27;, &#x27;not&#x27;, &#x27;of&#x27;, &#x27;on&#x27;, &#x27;one&#x27;, &#x27;oneplus&#x27;, &#x27;only&#x27;, &#x27;or&#x27;, &#x27;other&#x27;, &#x27;overall&#x27;, &#x27;perfect&#x27;, &#x27;price&#x27;, &#x27;pro&#x27;, &#x27;product&#x27;, &#x27;quality&#x27;, &#x27;really&#x27;, &#x27;so&#x27;, &#x27;sound&#x27;, &#x27;than&#x27;, &#x27;that&#x27;, &#x27;the&#x27;, &#x27;them&#x27;, &#x27;there&#x27;, &#x27;these&#x27;, &#x27;they&#x27;, &#x27;this&#x27;, &#x27;time&#x27;, &#x27;to&#x27;, &#x27;too&#x27;, &#x27;touch&#x27;, &#x27;use&#x27;, &#x27;using&#x27;, &#x27;value&#x27;, &#x27;very&#x27;, &#x27;was&#x27;, &#x27;well&#x27;, &#x27;when&#x27;, &#x27;which&#x27;, &#x27;will&#x27;, &#x27;with&#x27;, &#x27;you&#x27;, &#x27;your&#x27;, &#x27;keyword_good&#x27;, &#x27;keyword_bad&#x27;, &#x27;keyword_recommend&#x27;, &#x27;keyword_disappoint&#x27;, &#x27;keyword_excellent&#x27;, &#x27;rating_deviation&#x27;, &#x27;title_sentiment&#x27;, &#x27;title_length&#x27;, &#x27;nouns_count&#x27;, &#x27;verbs_count&#x27;, &#x27;adjectives_count&#x27;, &#x27;negation_count&#x27;, &#x27;pronoun_count&#x27;, &#x27;helpful_to_length_ratio&#x27;]</pre></div> </div></div><div class=\"sk-serial\"><div class=\"sk-item\"><div class=\"sk-serial\"><div class=\"sk-item\"><div class=\"sk-estimator fitted sk-toggleable\"><input class=\"sk-toggleable__control sk-hidden--visually\" id=\"sk-estimator-id-4\" type=\"checkbox\" ><label for=\"sk-estimator-id-4\" class=\"sk-toggleable__label fitted sk-toggleable__label-arrow fitted\">&nbsp;SimpleImputer<a class=\"sk-estimator-doc-link fitted\" rel=\"noreferrer\" target=\"_blank\" href=\"https://scikit-learn.org/1.5/modules/generated/sklearn.impute.SimpleImputer.html\">?<span>Documentation for SimpleImputer</span></a></label><div class=\"sk-toggleable__content fitted\"><pre>SimpleImputer(strategy=&#x27;median&#x27;)</pre></div> </div></div><div class=\"sk-item\"><div class=\"sk-estimator fitted sk-toggleable\"><input class=\"sk-toggleable__control sk-hidden--visually\" id=\"sk-estimator-id-5\" type=\"checkbox\" ><label for=\"sk-estimator-id-5\" class=\"sk-toggleable__label fitted sk-toggleable__label-arrow fitted\">&nbsp;StandardScaler<a class=\"sk-estimator-doc-link fitted\" rel=\"noreferrer\" target=\"_blank\" href=\"https://scikit-learn.org/1.5/modules/generated/sklearn.preprocessing.StandardScaler.html\">?<span>Documentation for StandardScaler</span></a></label><div class=\"sk-toggleable__content fitted\"><pre>StandardScaler()</pre></div> </div></div></div></div></div></div></div></div></div><div class=\"sk-item\"><div class=\"sk-estimator fitted sk-toggleable\"><input class=\"sk-toggleable__control sk-hidden--visually\" id=\"sk-estimator-id-6\" type=\"checkbox\" ><label for=\"sk-estimator-id-6\" class=\"sk-toggleable__label fitted sk-toggleable__label-arrow fitted\">&nbsp;RandomForestClassifier<a class=\"sk-estimator-doc-link fitted\" rel=\"noreferrer\" target=\"_blank\" href=\"https://scikit-learn.org/1.5/modules/generated/sklearn.ensemble.RandomForestClassifier.html\">?<span>Documentation for RandomForestClassifier</span></a></label><div class=\"sk-toggleable__content fitted\"><pre>RandomForestClassifier(random_state=42)</pre></div> </div></div></div></div></div></div>"
      ],
      "text/plain": [
       "Pipeline(steps=[('preprocessor',\n",
       "                 ColumnTransformer(transformers=[('num',\n",
       "                                                  Pipeline(steps=[('imputer',\n",
       "                                                                   SimpleImputer(strategy='median')),\n",
       "                                                                  ('scaler',\n",
       "                                                                   StandardScaler())]),\n",
       "                                                  ['rating', 'review_length',\n",
       "                                                   'review_word_count',\n",
       "                                                   'review_sentiment',\n",
       "                                                   'review_subjectivity',\n",
       "                                                   'flesch_kincaid', 'after',\n",
       "                                                   'all', 'also', 'an', 'anc',\n",
       "                                                   'and', 'app', 'are', 'as',\n",
       "                                                   'at', 'audio', 'bass',\n",
       "                                                   'battery', 'be', 'best',\n",
       "                                                   'better', 'buds', 'but',\n",
       "                                                   'buy', 'call', 'calls',\n",
       "                                                   'can', 'cancellation',\n",
       "                                                   'case', ...])])),\n",
       "                ('classifier', RandomForestClassifier(random_state=42))])"
      ]
     },
     "execution_count": 32,
     "metadata": {},
     "output_type": "execute_result"
    }
   ],
   "source": [
    "# Train the model\n",
    "model.fit(X_train, y_train)"
   ]
  },
  {
   "cell_type": "code",
   "execution_count": 33,
   "id": "dbe25e29-314f-48a4-aece-8cd15dc4d104",
   "metadata": {
    "tags": []
   },
   "outputs": [
    {
     "data": {
      "text/plain": [
       "(1040, 120)"
      ]
     },
     "execution_count": 33,
     "metadata": {},
     "output_type": "execute_result"
    }
   ],
   "source": [
    "X_train.shape"
   ]
  },
  {
   "cell_type": "code",
   "execution_count": 34,
   "id": "8e6984cb-ee3f-4e6e-ad01-61bba6148638",
   "metadata": {
    "tags": []
   },
   "outputs": [
    {
     "name": "stdout",
     "output_type": "stream",
     "text": [
      "Accuracy: 0.91\n",
      "Classification Report:\n",
      "               precision    recall  f1-score   support\n",
      "\n",
      "         low       1.00      0.47      0.64        15\n",
      "      medium       0.93      1.00      0.96       222\n",
      "        high       0.60      0.38      0.46        24\n",
      "\n",
      "    accuracy                           0.91       261\n",
      "   macro avg       0.84      0.61      0.69       261\n",
      "weighted avg       0.90      0.91      0.90       261\n",
      "\n"
     ]
    }
   ],
   "source": [
    "# Predict on the test data\n",
    "y_pred = model.predict(X_test)\n",
    "\n",
    "# Evaluate the model\n",
    "accuracy = accuracy_score(y_test, y_pred)\n",
    "report = classification_report(y_test, y_pred, target_names=labels)  # Use labels directly\n",
    "\n",
    "print(f\"Accuracy: {accuracy:.2f}\")\n",
    "print(\"Classification Report:\\n\", report)"
   ]
  },
  {
   "cell_type": "code",
   "execution_count": 35,
   "id": "393a1d85-3945-45c7-a45c-a5f557918aea",
   "metadata": {
    "tags": []
   },
   "outputs": [],
   "source": [
    "# Get feature importances\n",
    "underlying_model = model.named_steps['classifier']\n",
    "importances = underlying_model.feature_importances_\n",
    "feature_names = X.columns\n",
    "feature_importance_df = pd.DataFrame({'feature': feature_names, 'importance': importances})\n",
    "feature_importance_df = feature_importance_df.sort_values(by='importance', ascending=False)\n"
   ]
  },
  {
   "cell_type": "code",
   "execution_count": 36,
   "id": "5e5c2c27-a36f-4e90-a8d5-0d390131c09c",
   "metadata": {
    "tags": []
   },
   "outputs": [
    {
     "data": {
      "image/png": "[encoded data removed]",
      "text/plain": [
       "<Figure size 1000x800 with 1 Axes>"
      ]
     },
     "metadata": {},
     "output_type": "display_data"
    }
   ],
   "source": [
    "import matplotlib.pyplot as plt\n",
    "\n",
    "# Select the top 10 features by importance\n",
    "top_features = feature_importance_df.nlargest(10, 'importance')\n",
    "\n",
    "# Plotting feature importance\n",
    "plt.figure(figsize=(10, 8))\n",
    "plt.barh(top_features['feature'], top_features['importance'], color='skyblue')\n",
    "plt.xlabel('Importance')\n",
    "plt.title('Top 10 Feature Importance')\n",
    "plt.gca().invert_yaxis()  # To display the most important feature on top\n",
    "plt.show()\n"
   ]
  },
  {
   "cell_type": "code",
   "execution_count": null,
   "id": "84ded05b-4291-44d7-bd75-f0dbe473e5f6",
   "metadata": {},
   "outputs": [],
   "source": []
  }
 ],
 "metadata": {
  "environment": {
   "kernel": "conda-base-py",
   "name": "workbench-notebooks.m125",
   "type": "gcloud",
   "uri": "us-docker.pkg.dev/deeplearning-platform-release/gcr.io/workbench-notebooks:m125"
  },
  "kernelspec": {
   "display_name": "Python 3 (ipykernel) (Local)",
   "language": "python",
   "name": "conda-base-py"
  },
  "language_info": {
   "codemirror_mode": {
    "name": "ipython",
    "version": 3
   },
   "file_extension": ".py",
   "mimetype": "text/x-python",
   "name": "python",
   "nbconvert_exporter": "python",
   "pygments_lexer": "ipython3",
   "version": "3.10.15"
  }
 },
 "nbformat": 4,
 "nbformat_minor": 5
}
